{
 "cells": [
  {
   "cell_type": "markdown",
   "metadata": {},
   "source": [
    "## Examples of Using `qe2DDEC.py`"
   ]
  },
  {
   "cell_type": "code",
   "execution_count": 1,
   "metadata": {},
   "outputs": [],
   "source": [
    "from qe2DDEC import *\n",
    "\n",
    "# if qe2DDEC is not in your current working dir, uncomment the following comment \n",
    "# and change the path to let you code know where to look for raw2qe.py\n",
    "\n",
    "# import sys\n",
    "# sys.path.insert(1, 'C://Path//to//the//folder')#!!!use single backslash for linux OS\n",
    "\n",
    "# charge density calculations have been run and the results are stored in the following\n",
    "# root folder\n",
    "optroot = \"C://Users//liu_s//Documents//BW_results//DDEC//date-06-15-2020\"\n",
    "# we use the following command to redistribute 248 files into separate folders \n",
    "# so that files with similar names(from the same calculation)\n",
    "# will go to the same folder.\n",
    "# The output files are named as 'cation-name'+'f/h'+a number+'gs'+suffix, \n",
    "# we can do the following to group them into the same folder.\n",
    "\n",
    "# First we create a list for subfolders' names. Strings in the list must be substrings of\n",
    "# files' names. \n",
    "folders = []\n",
    "for cation in ['Li','Na','K','Rb','Cs']:\n",
    "    for a in ['h','f']:\n",
    "        for b in ['1','2','3','4']:\n",
    "            folders.append(cation+a+b)\n",
    "            \n",
    "# assign files into different folders     \n",
    "redistri_opt(optroot,folders)"
   ]
  },
  {
   "cell_type": "markdown",
   "metadata": {},
   "source": [
    "Now you can see below that many folders created in the 'optroot' \n",
    "![](images/distributed-folders.PNG)"
   ]
  },
  {
   "cell_type": "markdown",
   "metadata": {},
   "source": [
    "### Create `job_control.txt` in each subfolder"
   ]
  },
  {
   "cell_type": "code",
   "execution_count": 2,
   "metadata": {},
   "outputs": [],
   "source": [
    "from qe2DDEC import *\n",
    "optroot = \"C://Users//liu_s//Documents//BW_results//DDEC//date-06-15-2020\"\n",
    "# Prepare 'job_control.txt' in each folder\n",
    "folders = []\n",
    "for cation in ['Li','Na','K','Rb','Cs']:\n",
    "    for a in ['h','f']:\n",
    "        for b in ['1','2','3','4']:\n",
    "            folders.append(cation+a+b)\n",
    "for i in folders:\n",
    "    prep_DDECipt(os.path.join(optroot,i))"
   ]
  },
  {
   "cell_type": "markdown",
   "metadata": {},
   "source": [
    "The 'job_control.txt' file is created in each folder. \n",
    "![](generate-job-control.PNG)"
   ]
  },
  {
   "cell_type": "markdown",
   "metadata": {},
   "source": [
    "### Run the binary executable "
   ]
  },
  {
   "cell_type": "code",
   "execution_count": 2,
   "metadata": {},
   "outputs": [
    {
     "name": "stdout",
     "output_type": "stream",
     "text": [
      "complete!\n",
      "complete!\n",
      "complete!\n",
      "complete!\n",
      "complete!\n",
      "complete!\n",
      "complete!\n",
      "complete!\n",
      "complete!\n",
      "complete!\n",
      "complete!\n",
      "complete!\n",
      "complete!\n",
      "complete!\n",
      "complete!\n",
      "complete!\n",
      "complete!\n",
      "complete!\n",
      "complete!\n",
      "complete!\n",
      "complete!\n",
      "complete!\n",
      "complete!\n",
      "complete!\n",
      "complete!\n",
      "complete!\n",
      "complete!\n",
      "complete!\n",
      "complete!\n",
      "complete!\n",
      "complete!\n",
      "complete!\n",
      "complete!\n",
      "complete!\n",
      "complete!\n",
      "complete!\n",
      "complete!\n",
      "complete!\n",
      "complete!\n",
      "complete!\n"
     ]
    }
   ],
   "source": [
    "from qe2DDEC import *\n",
    "import os\n",
    "# Let us proceed to run precompiled binary executable to do DDEC6 analysis\n",
    "# We need a source path to precompiled binary file\n",
    "source = 'C://Users//liu_s//Downloads//chargemol_09_26_2017//chargemol_09_26_2017//chargemol_FORTRAN_09_26_2017//compiled_binaries//windows//Chargemol_09_26_2017_windows_64bits_serial_command_line.exe'\n",
    "# The path to root output folder should be changed into normal WINDOWS format\n",
    "rootPath = r'C:\\Users\\liu_s\\Documents\\BW_results\\DDEC\\date-06-15-2020'\n",
    "folders = []\n",
    "for cation in [r'\\Li',r'\\Na',r'\\K',r'\\Rb',r'\\Cs']:\n",
    "    for a in ['h','f']:\n",
    "        for b in ['1','2','3','4']:\n",
    "            folders.append(rootPath+cation+a+b)\n",
    "for f in folders:\n",
    "    run_DDEC(f,source)"
   ]
  },
  {
   "cell_type": "markdown",
   "metadata": {},
   "source": [
    "Now that the analysis is done for all the 40 cases, we see that some subfolders contain results shown below:\n",
    "\n",
    "![](ddec-with-results.png)"
   ]
  },
  {
   "cell_type": "markdown",
   "metadata": {},
   "source": [
    "But some folders do not\n",
    "\n",
    "![](images/ddec-without-results.PNG)\n",
    "\n",
    "This is likely because of **the electrons that can not be assigned to any nucleus in your system**. You can find it at the \"checkme\" value at the bottom of \"total_cobe_DDEC_analysis.output\" file (see below).\n",
    "\n",
    "![](images/incorrect-net-charge.png)\n",
    "\n",
    "In the case shown above, we have in total $0.13893$ electrons that can not be assigned to any nucleus. It might be caused by the coarse scheme of K-points or the inaccuracy of the pseudopotential you use. You can solve this problem by rerunning SCF calculations using **dense k-points scheme and/or different pseudopotential.**\n",
    "\n",
    "Here, we find that cases with **Rb** atoms in them cannot produce DDEC results properly. We regenerate the Pseudopotential for **Rb** using the standard electron configuration of **[Kr]5s1** and redo the calculations below."
   ]
  },
  {
   "cell_type": "code",
   "execution_count": 6,
   "metadata": {},
   "outputs": [
    {
     "name": "stdout",
     "output_type": "stream",
     "text": [
      "complete!\n",
      "complete!\n",
      "complete!\n"
     ]
    }
   ],
   "source": [
    "from qe2DDEC import *\n",
    "import os\n",
    "# Let us proceed to run precompiled binary executable to do DDEC6 analysis\n",
    "# We need a source path to precompiled binary file\n",
    "source = 'C://Users//liu_s//Downloads//chargemol_09_26_2017//chargemol_09_26_2017//chargemol_FORTRAN_09_26_2017//compiled_binaries//windows//Chargemol_09_26_2017_windows_64bits_serial_command_line.exe'\n",
    "# The path to root output folder should be changed into normal WINDOWS format\n",
    "rootPath = r'C:\\Users\\liu_s\\Documents\\BW_results\\DDEC\\date-06-15-2020'\n",
    "folders = []\n",
    "for cation in [r'\\Rbf2',r'\\Rbf3',r'\\Rbf4']:\n",
    "            folders.append(rootPath+cation)\n",
    "for f in folders:\n",
    "    run_DDEC(f,source)"
   ]
  },
  {
   "cell_type": "markdown",
   "metadata": {},
   "source": [
    "Sometimes, using different pseudopotentials could cause incorrect calculation of the number of core electrons. The **'checkme' in `total_cube_DDEC_analysis.output` is a integer**. To correct `net charge` parameter, We can simply add the value of 'checkme' back to the `net charge` parameter using the function of `checkme`(see below)."
   ]
  },
  {
   "cell_type": "code",
   "execution_count": 5,
   "metadata": {},
   "outputs": [
    {
     "name": "stdout",
     "output_type": "stream",
     "text": [
      "checkme is not integer\n",
      "checkme is not integer\n",
      "checkme is not integer\n",
      "checkme is not integer\n"
     ]
    }
   ],
   "source": [
    "# We use 'checkme' function to change job_cotrol files for the failed cases\n",
    "from qe2DDEC import *\n",
    "import os\n",
    "rootPath = 'C://Users//liu_s//Documents//BW_results//DDEC//date-06-15-2020//'\n",
    "for c in ['Rbf1','Rbf2','Rbf3','Rbf4']:\n",
    "    checkme(rootPath+c)"
   ]
  },
  {
   "cell_type": "markdown",
   "metadata": {},
   "source": [
    "If the `checkme` is not an integer, the function will tell you that (see the outputs above), and you need to consider if you should redo the DFT calculations"
   ]
  },
  {
   "cell_type": "markdown",
   "metadata": {},
   "source": [
    "### Extract useful data from DDEC6 analysis results"
   ]
  },
  {
   "cell_type": "code",
   "execution_count": 1,
   "metadata": {},
   "outputs": [],
   "source": [
    "from qe2DDEC import *\n",
    "optroot = \"C://Users//liu_s//Documents//BW_results//DDEC//date-06-15-2020\"\n",
    "# Prepare 'job_control.txt' in each folder\n",
    "folders = []\n",
    "for cation in ['Rb']:\n",
    "    for a in ['f']:\n",
    "        for b in ['1','2','3','4']:\n",
    "            folders.append(cation+a+b)\n",
    "for i in folders:\n",
    "    prep_DDECipt(os.path.join(optroot,i))"
   ]
  },
  {
   "cell_type": "code",
   "execution_count": null,
   "metadata": {},
   "outputs": [],
   "source": []
  }
 ],
 "metadata": {
  "kernelspec": {
   "display_name": "Python 3",
   "language": "python",
   "name": "python3"
  },
  "language_info": {
   "codemirror_mode": {
    "name": "ipython",
    "version": 3
   },
   "file_extension": ".py",
   "mimetype": "text/x-python",
   "name": "python",
   "nbconvert_exporter": "python",
   "pygments_lexer": "ipython3",
   "version": "3.7.4"
  }
 },
 "nbformat": 4,
 "nbformat_minor": 2
}
