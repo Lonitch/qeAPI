{
 "cells": [
  {
   "cell_type": "markdown",
   "metadata": {},
   "source": [
    "## Examples of Using qe2DDEC.py"
   ]
  },
  {
   "cell_type": "code",
   "execution_count": 1,
   "metadata": {},
   "outputs": [],
   "source": [
    "from qe2DDEC import *\n",
    "\n",
    "# charge density calculations have been run and the results are stored in the following\n",
    "# root folder\n",
    "optroot = \"C://Users//liu_s//Documents//BW_results//DDEC//date-06-15-2020\"\n",
    "# we use the following command to redistribute 248 files into separate folders \n",
    "# so that files with similar names(from the same calculation)\n",
    "# will go to the same folder.\n",
    "# The output files are named as 'cation-name'+'f/h'+a number+'gs'+suffix, \n",
    "# we can do the following to group them into the same folder.\n",
    "\n",
    "# First we create a list for subfolders' names. Strings in the list must be substrings of\n",
    "# files' names. \n",
    "folders = []\n",
    "for cation in ['Li','Na','K','Rb','Cs']:\n",
    "    for a in ['h','f']:\n",
    "        for b in ['1','2','3','4']:\n",
    "            folders.append(cation+a+b)\n",
    "            \n",
    "# assign files into different folders     \n",
    "redistri_opt(optroot,folders)"
   ]
  },
  {
   "cell_type": "markdown",
   "metadata": {},
   "source": [
    "Now you can see below that many folders created in the 'optroot' \n",
    "![](distributed-folders.PNG)"
   ]
  },
  {
   "cell_type": "code",
   "execution_count": 2,
   "metadata": {},
   "outputs": [],
   "source": [
    "from qe2DDEC import *\n",
    "optroot = \"C://Users//liu_s//Documents//BW_results//DDEC//date-06-15-2020\"\n",
    "# Prepare 'job_control.txt' in each folder\n",
    "folders = []\n",
    "for cation in ['Li','Na','K','Rb','Cs']:\n",
    "    for a in ['h','f']:\n",
    "        for b in ['1','2','3','4']:\n",
    "            folders.append(cation+a+b)\n",
    "for i in folders:\n",
    "    prep_DDECipt(os.path.join(optroot,i))"
   ]
  },
  {
   "cell_type": "markdown",
   "metadata": {},
   "source": [
    "The 'job_control.txt' file is created in each folder. \n",
    "![](generate-job-control.PNG)"
   ]
  },
  {
   "cell_type": "code",
   "execution_count": 2,
   "metadata": {},
   "outputs": [
    {
     "name": "stdout",
     "output_type": "stream",
     "text": [
      "complete!\n",
      "complete!\n",
      "complete!\n",
      "complete!\n",
      "complete!\n",
      "complete!\n",
      "complete!\n",
      "complete!\n",
      "complete!\n",
      "complete!\n",
      "complete!\n",
      "complete!\n",
      "complete!\n",
      "complete!\n",
      "complete!\n",
      "complete!\n",
      "complete!\n",
      "complete!\n",
      "complete!\n",
      "complete!\n",
      "complete!\n",
      "complete!\n",
      "complete!\n",
      "complete!\n",
      "complete!\n",
      "complete!\n",
      "complete!\n",
      "complete!\n",
      "complete!\n",
      "complete!\n",
      "complete!\n",
      "complete!\n",
      "complete!\n",
      "complete!\n",
      "complete!\n",
      "complete!\n",
      "complete!\n",
      "complete!\n",
      "complete!\n",
      "complete!\n"
     ]
    }
   ],
   "source": [
    "from qe2DDEC import *\n",
    "import os\n",
    "# Let us proceed to run precompiled binary executable to do DDEC6 analysis\n",
    "# We need a source path to precompiled binary file\n",
    "source = 'C://Users//liu_s//Downloads//chargemol_09_26_2017//chargemol_09_26_2017//chargemol_FORTRAN_09_26_2017//compiled_binaries//windows//Chargemol_09_26_2017_windows_64bits_serial_command_line.exe'\n",
    "# The path to root output folder should be changed into normal WINDOWS format\n",
    "rootPath = r'C:\\Users\\liu_s\\Documents\\BW_results\\DDEC\\date-06-15-2020'\n",
    "folders = []\n",
    "for cation in [r'\\Li',r'\\Na',r'\\K',r'\\Rb',r'\\Cs']:\n",
    "    for a in ['h','f']:\n",
    "        for b in ['1','2','3','4']:\n",
    "            folders.append(rootPath+cation+a+b)\n",
    "for f in folders:\n",
    "    run_DDEC(f,source)"
   ]
  },
  {
   "cell_type": "markdown",
   "metadata": {},
   "source": [
    "Now that the analysis is done for all the 40 cases, we see that some subfolders contain results like the figure below:\n",
    "\n",
    "![](ddec-with-results.png)"
   ]
  },
  {
   "cell_type": "markdown",
   "metadata": {},
   "source": [
    "But some folders does not\n",
    "\n",
    "![](ddec-without-results.PNG)"
   ]
  },
  {
   "cell_type": "code",
   "execution_count": 18,
   "metadata": {},
   "outputs": [
    {
     "name": "stdout",
     "output_type": "stream",
     "text": [
      "C:\\Users\\liu_s\\Documents\\BW_results\\DDEC\\date-06-15-2020\n"
     ]
    }
   ],
   "source": [
    "rootPath = r'C:\\Users\\liu_s\\Documents\\BW_results\\DDEC\\date-06-15-2020'\n",
    "print(rootPath)"
   ]
  },
  {
   "cell_type": "code",
   "execution_count": 20,
   "metadata": {},
   "outputs": [
    {
     "name": "stdout",
     "output_type": "stream",
     "text": [
      "C:\\Users\\liu_s\\Documents\\BW_results\\DDEC\\date-06-15-2020\\Lih1\n"
     ]
    }
   ],
   "source": [
    "print(folders[0])"
   ]
  },
  {
   "cell_type": "code",
   "execution_count": null,
   "metadata": {},
   "outputs": [],
   "source": []
  }
 ],
 "metadata": {
  "kernelspec": {
   "display_name": "Python 3",
   "language": "python",
   "name": "python3"
  },
  "language_info": {
   "codemirror_mode": {
    "name": "ipython",
    "version": 3
   },
   "file_extension": ".py",
   "mimetype": "text/x-python",
   "name": "python",
   "nbconvert_exporter": "python",
   "pygments_lexer": "ipython3",
   "version": "3.7.4"
  }
 },
 "nbformat": 4,
 "nbformat_minor": 2
}
