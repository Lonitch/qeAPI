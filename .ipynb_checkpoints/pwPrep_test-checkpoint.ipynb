{
 "cells": [
  {
   "cell_type": "markdown",
   "metadata": {},
   "source": [
    "## Examples of Using raw2qe.py\n",
    "\n",
    "The following code shows the ways to change the input options for QE calcualations, and adjust atomic properties using raw2qe.py"
   ]
  },
  {
   "cell_type": "code",
   "execution_count": 1,
   "metadata": {},
   "outputs": [],
   "source": [
    "from raw2qe import *\n",
    "\n",
    "path = '' # choose the path to the folder that stores cif file\n",
    "filname = 'NaTi2(PO4)3.cif' # cif file name\n",
    "\n",
    "# create a qeIpt object\n",
    "test = qeIpt(path,filname)\n",
    "\n",
    "# change the mass of Na atom to 23\n",
    "test.set_masses({'Na':23})\n",
    "\n",
    "# expand the simulation box by 0.1%\n",
    "test.scal_cell(1.001)\n",
    "\n",
    "# update default value before you prepare input file\n",
    "# change the calculation type to rlx\n",
    "# add another option \"restart_mode\" in \"CONTROL\" panel\n",
    "test.update_default({'CONTROL':{'calculation':'rlx'},'SYSTEM':{'ibrav':1}})\n",
    "\n",
    "# update default value so we can add Hubbard correction, and change \n",
    "# starting spin states\n",
    "test.update_default({'SYSTEM':{'lda_plus_u':'.TRUE.','hubbard_u': [('Ti',1.0)],\n",
    "                               'nspin':2, # must be 2 for starting magnetization\n",
    "                               'starting_magnetization':[('Ti',0.5),('P',0.5)]}})\n",
    "# prepare input file for pw.x, a 'NaTi2(PO4)3_rlx.in' file is created \n",
    "# in your current work dictory\n",
    "test.prep_pwipt()\n",
    "\n",
    "# check the bravais lattice index and update\n",
    "test.check_bravais()\n",
    "# change prefix string in input file (automatically change \"outdir\" path)\n",
    "# change the calculation type to scf\n",
    "test.update_default({'CONTROL':{'prefix':'newprefix','calculation':'scf'}})\n",
    "\n",
    "# prepare input file for pw.x, a \"newprefix_scf.in\" file is created\n",
    "test.prep_pwipt()\n",
    "\n",
    "# change the calculation type to nscf\n",
    "test.update_default({'CONTROL':{'calculation':'nscf'}})\n",
    "# prepare input file for pw.x, a \"newprefix_nscf.in\" file is created\n",
    "test.prep_pwipt()\n",
    "\n",
    "# prepare input file for pp.x, a \"newprefix_pp.in\" file is created\n",
    "test.prep_ppipt()\n",
    "# prepare input file for dos.x, a \"newprefix_dos.in\" file is created\n",
    "test.prep_dosipt()\n",
    "# prepare input file for projwfc.x, a \"newprefix_pdos.in\" file is created\n",
    "test.prep_pdosipt()"
   ]
  }
 ],
 "metadata": {
  "kernelspec": {
   "display_name": "Python 3",
   "language": "python",
   "name": "python3"
  },
  "language_info": {
   "codemirror_mode": {
    "name": "ipython",
    "version": 3
   },
   "file_extension": ".py",
   "mimetype": "text/x-python",
   "name": "python",
   "nbconvert_exporter": "python",
   "pygments_lexer": "ipython3",
   "version": "3.7.4"
  }
 },
 "nbformat": 4,
 "nbformat_minor": 2
}
