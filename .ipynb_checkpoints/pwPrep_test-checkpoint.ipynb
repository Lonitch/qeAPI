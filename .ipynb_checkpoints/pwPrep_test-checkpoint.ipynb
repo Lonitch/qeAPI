{
 "cells": [
  {
   "cell_type": "markdown",
   "metadata": {},
   "source": [
    "## Examples of Using `raw2qe.py`\n",
    "\n",
    "The following code shows the ways to change the input options for QE calcualations, and adjust atomic properties using `raw2qe.py`"
   ]
  },
  {
   "cell_type": "code",
   "execution_count": 1,
   "metadata": {},
   "outputs": [],
   "source": [
    "from raw2qe import *\n",
    "\n",
    "# if raw2qe is not in your current working dir, uncomment the following comment \n",
    "# and change the path to let you code know where to look for raw2qe.py\n",
    "\n",
    "# import sys\n",
    "# sys.path.insert(1, 'C://Path//to//the//folder')\n",
    "\n",
    "path = '' # choose the path to the folder that stores cif file\n",
    "filname = 'NaTi2(PO4)3.cif' # cif file name\n",
    "\n",
    "# create a qeIpt object\n",
    "test = qeIpt(path,filname)\n",
    "\n",
    "# change the mass of Na atom to 23\n",
    "test.set_masses({'Na':23})\n",
    "\n",
    "# expand the simulation box by 0.1%\n",
    "test.scal_cell(1.001)\n",
    "\n",
    "# update default value before you prepare input file\n",
    "# change the calculation type to rlx\n",
    "# add another option \"restart_mode\" in \"CONTROL\" panel\n",
    "test.update_default({'CONTROL':{'calculation':'rlx'},'SYSTEM':{'ibrav':1}})\n",
    "\n",
    "# update default value so we can add Hubbard correction, and change \n",
    "# starting spin states\n",
    "test.update_default({'SYSTEM':{'lda_plus_u':'.TRUE.','hubbard_u': [('Ti',1.0)],\n",
    "                               'nspin':2, # must be 2 for starting magnetization\n",
    "                               'starting_magnetization':[('Ti',0.5),('P',0.5)]}})\n",
    "# prepare input file for pw.x, a 'NaTi2(PO4)3_rlx.in' file is created \n",
    "# in your current work dictory\n",
    "test.prep_pwipt()\n",
    "\n",
    "# check the bravais lattice index and update\n",
    "test.check_bravais()\n",
    "# change prefix string in input file (automatically change \"outdir\" path)\n",
    "# change the calculation type to scf\n",
    "test.update_default({'CONTROL':{'prefix':'newprefix','calculation':'scf'}})\n",
    "\n",
    "# prepare input file for pw.x, a \"newprefix_scf.in\" file is created\n",
    "test.prep_pwipt()\n",
    "\n",
    "# change the calculation type to nscf\n",
    "test.update_default({'CONTROL':{'calculation':'nscf'}})\n",
    "# prepare input file for pw.x, a \"newprefix_nscf.in\" file is created\n",
    "test.prep_pwipt()\n",
    "\n",
    "# prepare input file for pp.x, a \"newprefix_pp.in\" file is created\n",
    "test.prep_ppipt()\n",
    "# prepare input file for dos.x, a \"newprefix_dos.in\" file is created\n",
    "test.prep_dosipt()\n",
    "# prepare input file for projwfc.x, a \"newprefix_pdos.in\" file is created\n",
    "test.prep_pdosipt()"
   ]
  },
  {
   "cell_type": "markdown",
   "metadata": {},
   "source": [
    "We can also remove some options in our input file by using the function `delete_entry`. The command below removes the `input_dft` option in `SYSTEM` panel."
   ]
  },
  {
   "cell_type": "code",
   "execution_count": 2,
   "metadata": {},
   "outputs": [
    {
     "name": "stdout",
     "output_type": "stream",
     "text": [
      "SYSTEM,GG\n"
     ]
    }
   ],
   "source": [
    "tt = [('SYSTEM','input_dft')]\n",
    "test.delete_entry(tt)"
   ]
  },
  {
   "cell_type": "markdown",
   "metadata": {},
   "source": [
    "If we do want to perform charge density calculations with more features in our input file, we can simply pass a new dictionary to the `prep_ppipt` function. The following code demand `pp.x` to sample charge density on $1000\\times1000\\times1000$ points in the space"
   ]
  },
  {
   "cell_type": "code",
   "execution_count": 1,
   "metadata": {},
   "outputs": [],
   "source": [
    "from raw2qe import *\n",
    "path = '' # choose the path to the folder that stores cif file\n",
    "filname = 'NaTi2(PO4)3.cif' # cif file name\n",
    "\n",
    "# create a qeIpt object\n",
    "test = qeIpt(path,filname)\n",
    "# prepare input file for pp.x with new features of nx, ny, and nz\n",
    "test.prep_ppipt({'nx':1000,'ny':1000,'nz':1000})"
   ]
  },
  {
   "cell_type": "markdown",
   "metadata": {},
   "source": [
    "Now there are three more lines in `&plot` panel in `NaTi2(PO4)3_pp.in`\n",
    "\n",
    "`\n",
    "nx=1000\n",
    "ny=1000\n",
    "nz=1000\n",
    "`"
   ]
  },
  {
   "cell_type": "code",
   "execution_count": null,
   "metadata": {},
   "outputs": [],
   "source": []
  }
 ],
 "metadata": {
  "kernelspec": {
   "display_name": "Python 3",
   "language": "python",
   "name": "python3"
  },
  "language_info": {
   "codemirror_mode": {
    "name": "ipython",
    "version": 3
   },
   "file_extension": ".py",
   "mimetype": "text/x-python",
   "name": "python",
   "nbconvert_exporter": "python",
   "pygments_lexer": "ipython3",
   "version": "3.7.4"
  }
 },
 "nbformat": 4,
 "nbformat_minor": 2
}
