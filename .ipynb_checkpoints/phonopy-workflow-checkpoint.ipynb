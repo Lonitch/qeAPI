{
 "cells": [
  {
   "cell_type": "markdown",
   "metadata": {},
   "source": [
    "# Use Phonopy with qeAPI\n",
    "Phonon/dispersion calculation could be time-consuming and hard to crack for a new comer. The following code is a standard work flow for using [phonopy](https://phonopy.github.io/phonopy/) with our qeAPI.\n",
    "\n",
    "## First Steps\n",
    "\n",
    "We need to install `phonopy` first. You can do it through anaconda or using source code. \n",
    "- For anaconda users, just open the anaconda prompt and type `conda install -c conda-forge phonopy` \n",
    "- For those who want to compile phonopy from source code,\n",
    "    - first make sure that *Visual C++ 14.0* is installed using [Visual C++ Build tool](http://go.microsoft.com/fwlink/?LinkId=691126&fixForIE=.exe.)\n",
    "    - Run the following commands in a python visual environment(`.venv`) command prompt:\n",
    "        - `git clone https://github.com/phonopy/phonopy.git`\n",
    "        - `cd phonopy`\n",
    "        - `git checkout master`\n",
    "        - `python setup.py build`\n",
    "        - `pip install -e .`\n",
    "    - If you're lucky, nothing abnormal would happen and you are good to use `phonopy`. However, `phonopy` installation depends on `numpy`, but it may fail sanity check while `pip` builds wheel. A workaround could be degrading `numpy ` using a command of `pip install numpy==1.19.3`. This method cannot guarantee the installation will succeed, so using anaconda is currently the best way."
   ]
  },
  {
   "cell_type": "code",
   "execution_count": 1,
   "metadata": {},
   "outputs": [],
   "source": [
    "import numpy as np\n",
    "from phonopy import Phonopy\n",
    "from phonopy.structure.atoms import PhonopyAtoms\n",
    "from ase.io import read"
   ]
  },
  {
   "cell_type": "markdown",
   "metadata": {},
   "source": [
    "## Prepare supercells with atomic displacements\n",
    "The workflow starts from a cif file of a ground-state configuration, which could be an unit cell or a supercell."
   ]
  },
  {
   "cell_type": "code",
   "execution_count": 2,
   "metadata": {},
   "outputs": [],
   "source": [
    "file = 'C://Users//liu_s//Documents//BW_results//SA//Naf1//GS//Naf1gs.cif'\n",
    "preatoms = read(file)"
   ]
  },
  {
   "cell_type": "code",
   "execution_count": 3,
   "metadata": {},
   "outputs": [],
   "source": [
    "syms = preatoms.get_chemical_symbols()\n",
    "cell = np.array(preatoms.get_cell())\n",
    "spos = preatoms.get_scaled_positions()"
   ]
  },
  {
   "cell_type": "code",
   "execution_count": 4,
   "metadata": {},
   "outputs": [],
   "source": [
    "import os\n",
    "tag = os.path.split(file)[-1][:-4]"
   ]
  },
  {
   "cell_type": "markdown",
   "metadata": {},
   "source": [
    "The following code generates supercells with displacements which have the same size as the original configuration. (see the third command below) You can also choose to generate larger supercells. A rule of thumb is that **supercells should have lattice constant ~10 Angstrom**"
   ]
  },
  {
   "cell_type": "code",
   "execution_count": 5,
   "metadata": {},
   "outputs": [],
   "source": [
    "from phonopy.units import PwscfToTHz\n",
    "unitcell = PhonopyAtoms(symbols=syms,cell=(cell),scaled_positions=spos)\n",
    "phonon = Phonopy(unitcell,[[1, 0, 0], [0, 1, 0], [0, 0, 1]],factor=PwscfToTHz)\n",
    "phonon.generate_displacements(distance=0.03)\n",
    "supercells = phonon.supercells_with_displacements"
   ]
  },
  {
   "cell_type": "markdown",
   "metadata": {},
   "source": [
    "## Prepare input file for SCF calculations using Quantum ESPRESSO"
   ]
  },
  {
   "cell_type": "code",
   "execution_count": 6,
   "metadata": {},
   "outputs": [],
   "source": [
    "from ase import Atoms\n",
    "import sys,glob\n",
    "sys.path.insert(1, 'C://Users//liu_s//Desktop//CODE//qeAPI')\n",
    "from raw2qe import *\n",
    "from qe2cif import *\n",
    "svpath = 'C://Users//liu_s//Documents//BW_ipts//SA//Naf1//Phonon//' \n",
    "\n",
    "for i,scell in enumerate(supercells):\n",
    "    atoms = Atoms(symbols=scell.get_chemical_symbols(),scaled_positions=scell.get_scaled_positions(),\n",
    "                  cell=scell.get_cell(),pbc=True)\n",
    "    test = qeIpt(atoms=atoms,svpath=svpath,prefix=tag+'id{}'.format(i))\n",
    "    test.update_default({'CONTROL':{'calculation':'scf'}})\n",
    "    test.update_default({'SYSTEM':{'ibrav':14,'lda_plus_u':'.TRUE.','hubbard_u': [('Ni',3.0),('Fe',1.0)],\n",
    "                                   'nspin':2,'starting_magnetization':[('Ni',0.5),('Fe',0.5)]}})\n",
    "    test.update_default({'SYSTEM':{'ecutwfc':55,'ecutrho':55*9}})\n",
    "    test.update_default({'ELECTRONS':{'conv_thr':1e-10}})\n",
    "    test.update_default({'K_POINTS':{'x':4,'y':4,'z':4}})\n",
    "    test.prep_pwipt()"
   ]
  },
  {
   "cell_type": "markdown",
   "metadata": {},
   "source": [
    "## Get forces from each SCF calculation"
   ]
  },
  {
   "cell_type": "code",
   "execution_count": 9,
   "metadata": {},
   "outputs": [
    {
     "name": "stdout",
     "output_type": "stream",
     "text": [
      "[Phonopy] Drift force:   -0.00000   -0.00000   -0.00000\n",
      "[Phonopy] Drift force:   -0.00000   -0.00000    0.00000\n",
      "[Phonopy] Drift force:   -0.00000   -0.00000    0.00000\n",
      "[Phonopy] Drift force:   -0.00000    0.00000   -0.00000\n",
      "[Phonopy] Drift force:   -0.00000    0.00000   -0.00000\n",
      "[Phonopy] Drift force:   -0.00000    0.00000   -0.00000\n",
      "[Phonopy] Drift force:   -0.00000    0.00000    0.00000\n",
      "[Phonopy] Drift force:    0.00000    0.00000   -0.00000\n",
      "[Phonopy] Drift force:    0.00000   -0.00000   -0.00000\n",
      "[Phonopy] Drift force:   -0.00000   -0.00000   -0.00000\n",
      "[Phonopy] Drift force:    0.00000    0.00000   -0.00000\n",
      "[Phonopy] Drift force:    0.00000    0.00000    0.00000\n",
      "[Phonopy] Drift force:    0.00000   -0.00000   -0.00000\n",
      "[Phonopy] Drift force:    0.00000   -0.00000   -0.00000\n",
      "[Phonopy] Drift force:    0.00000    0.00000   -0.00000\n",
      "[Phonopy] Drift force:   -0.00000    0.00000    0.00000\n",
      "[Phonopy] Drift force:   -0.00000   -0.00000   -0.00000\n",
      "[Phonopy] Drift force:    0.00000   -0.00000   -0.00000\n",
      "[Phonopy] Drift force:    0.00000    0.00000   -0.00000\n",
      "[Phonopy] Drift force:   -0.00000   -0.00000   -0.00000\n",
      "[Phonopy] Drift force:   -0.00000    0.00000    0.00000\n",
      "[Phonopy] Drift force:    0.00000    0.00000   -0.00000\n",
      "[Phonopy] Drift force:   -0.00000   -0.00000    0.00000\n",
      "[Phonopy] Drift force:   -0.00000    0.00000   -0.00000\n",
      "[Phonopy] Drift force:    0.00000   -0.00000    0.00000\n",
      "[Phonopy] Drift force:    0.00000   -0.00000   -0.00000\n",
      "[Phonopy] Drift force:    0.00000    0.00000   -0.00000\n",
      "[Phonopy] Drift force:   -0.00000   -0.00000   -0.00000\n",
      "[Phonopy] Drift force:    0.00000   -0.00000    0.00000\n",
      "[Phonopy] Drift force:    0.00000   -0.00000   -0.00000\n",
      "[Phonopy] Drift force:    0.00000    0.00000   -0.00000\n",
      "[Phonopy] Drift force:   -0.00000   -0.00000   -0.00000\n",
      "[Phonopy] Drift force:    0.00000   -0.00000   -0.00000\n",
      "[Phonopy] Drift force:   -0.00000   -0.00000   -0.00000\n",
      "[Phonopy] Drift force:   -0.00000   -0.00000   -0.00000\n",
      "[Phonopy] Drift force:    0.00000    0.00000    0.00000\n",
      "[Phonopy] Drift force:   -0.00000   -0.00000    0.00000\n",
      "[Phonopy] Drift force:    0.00000    0.00000    0.00000\n",
      "[Phonopy] Drift force:    0.00000   -0.00000    0.00000\n",
      "[Phonopy] Drift force:    0.00000    0.00000    0.00000\n",
      "[Phonopy] Drift force:    0.00000   -0.00000    0.00000\n",
      "[Phonopy] Drift force:    0.00000    0.00000    0.00000\n",
      "[Phonopy] Drift force:    0.00000   -0.00000   -0.00000\n",
      "[Phonopy] Drift force:    0.00000    0.00000   -0.00000\n",
      "[Phonopy] Drift force:    0.00000   -0.00000    0.00000\n",
      "[Phonopy] Drift force:   -0.00000   -0.00000    0.00000\n",
      "[Phonopy] Drift force:   -0.00000   -0.00000   -0.00000\n",
      "[Phonopy] Drift force:    0.00000   -0.00000    0.00000\n",
      "[Phonopy] Drift force:    0.00000   -0.00000    0.00000\n",
      "[Phonopy] Drift force:    0.00000    0.00000   -0.00000\n",
      "[Phonopy] Drift force:   -0.00000   -0.00000    0.00000\n",
      "[Phonopy] Drift force:   -0.00000   -0.00000    0.00000\n",
      "[Phonopy] Drift force:    0.00000   -0.00000    0.00000\n",
      "[Phonopy] Drift force:    0.00000    0.00000   -0.00000\n",
      "[Phonopy] Drift force:   -0.00000    0.00000    0.00000\n",
      "[Phonopy] Drift force:   -0.00000   -0.00000    0.00000\n",
      "[Phonopy] Drift force:    0.00000    0.00000   -0.00000\n",
      "[Phonopy] Drift force:   -0.00000    0.00000    0.00000\n",
      "[Phonopy] Drift force:    0.00000    0.00000   -0.00000\n",
      "[Phonopy] Drift force:    0.00000   -0.00000    0.00000\n",
      "[Phonopy] Drift force:    0.00000    0.00000    0.00000\n",
      "[Phonopy] Drift force:    0.00000   -0.00000   -0.00000\n",
      "[Phonopy] Drift force:    0.00000    0.00000    0.00000\n",
      "[Phonopy] Drift force:    0.00000   -0.00000    0.00000\n",
      "[Phonopy] Drift force:   -0.00000   -0.00000    0.00000\n",
      "[Phonopy] Drift force:    0.00000   -0.00000    0.00000\n",
      "[Phonopy] Drift force:   -0.00000    0.00000   -0.00000\n",
      "[Phonopy] Drift force:    0.00000    0.00000    0.00000\n",
      "[Phonopy] Drift force:    0.00000   -0.00000    0.00000\n",
      "[Phonopy] Drift force:   -0.00000   -0.00000   -0.00000\n",
      "[Phonopy] Drift force:   -0.00000    0.00000   -0.00000\n",
      "[Phonopy] Drift force:    0.00000   -0.00000    0.00000\n",
      "[Phonopy] Drift force:   -0.00000    0.00000   -0.00000\n",
      "[Phonopy] Drift force:    0.00000   -0.00000    0.00000\n",
      "[Phonopy] Drift force:    0.00000    0.00000    0.00000\n",
      "[Phonopy] Drift force:   -0.00000   -0.00000   -0.00000\n",
      "[Phonopy] Drift force:   -0.00000    0.00000   -0.00000\n",
      "[Phonopy] Drift force:   -0.00000    0.00000   -0.00000\n",
      "[Phonopy] Drift force:   -0.00000   -0.00000    0.00000\n",
      "[Phonopy] Drift force:   -0.00000   -0.00000   -0.00000\n",
      "[Phonopy] Drift force:    0.00000   -0.00000   -0.00000\n",
      "[Phonopy] Drift force:   -0.00000    0.00000    0.00000\n",
      "[Phonopy] Drift force:   -0.00000   -0.00000    0.00000\n",
      "[Phonopy] Drift force:    0.00000    0.00000    0.00000\n",
      "[Phonopy] Drift force:    0.00000   -0.00000    0.00000\n",
      "[Phonopy] Drift force:    0.00000   -0.00000   -0.00000\n",
      "[Phonopy] Drift force:   -0.00000   -0.00000   -0.00000\n",
      "[Phonopy] Drift force:   -0.00000    0.00000    0.00000\n",
      "[Phonopy] Drift force:   -0.00000    0.00000    0.00000\n",
      "[Phonopy] Drift force:   -0.00000   -0.00000   -0.00000\n",
      "[Phonopy] Drift force:    0.00000   -0.00000   -0.00000\n",
      "[Phonopy] Drift force:   -0.00000    0.00000    0.00000\n",
      "[Phonopy] Drift force:    0.00000    0.00000    0.00000\n",
      "[Phonopy] Drift force:   -0.00000   -0.00000   -0.00000\n",
      "[Phonopy] Drift force:   -0.00000    0.00000   -0.00000\n",
      "[Phonopy] Drift force:    0.00000   -0.00000    0.00000\n",
      "[Phonopy] Drift force:   -0.00000    0.00000    0.00000\n",
      "[Phonopy] Drift force:   -0.00000    0.00000   -0.00000\n",
      "[Phonopy] Drift force:   -0.00000   -0.00000    0.00000\n",
      "[Phonopy] Drift force:    0.00000    0.00000    0.00000\n",
      "[Phonopy] Drift force:   -0.00000    0.00000   -0.00000\n",
      "[Phonopy] Drift force:    0.00000    0.00000    0.00000\n",
      "[Phonopy] Drift force:    0.00000    0.00000   -0.00000\n",
      "[Phonopy] Drift force:   -0.00000   -0.00000    0.00000\n",
      "[Phonopy] Drift force:    0.00000   -0.00000   -0.00000\n",
      "[Phonopy] Drift force:   -0.00000    0.00000    0.00000\n",
      "[Phonopy] Drift force:    0.00000   -0.00000    0.00000\n",
      "[Phonopy] Drift force:   -0.00000   -0.00000    0.00000\n",
      "[Phonopy] Drift force:    0.00000   -0.00000    0.00000\n",
      "[Phonopy] Drift force:   -0.00000    0.00000    0.00000\n",
      "[Phonopy] Drift force:    0.00000    0.00000   -0.00000\n",
      "[Phonopy] Drift force:    0.00000   -0.00000    0.00000\n",
      "[Phonopy] Drift force:   -0.00000    0.00000   -0.00000\n",
      "[Phonopy] Drift force:   -0.00000    0.00000    0.00000\n"
     ]
    }
   ],
   "source": [
    "import re,glob,sys\n",
    "sys.path.insert(1, 'C://Users//liu_s//Desktop//CODE//qeAPI')\n",
    "from qe2cif import *\n",
    "respath = 'C://Users//liu_s//Documents//BW_results//SA//Naf1//Phonon//*_scf.out' \n",
    "files = glob.glob(respath)\n",
    "files = sorted(files, key=lambda f: [int(n) for n in re.findall(r\"\\d+\", f)])\n",
    "set_of_forces = []\n",
    "for f in files:\n",
    "    cell = read_espresso_out(f,index=-1)\n",
    "    forces = cell.get_forces()\n",
    "    drift_force = forces.sum(axis=0)\n",
    "    print((\"[Phonopy] Drift force:\" + \"%11.5f\" * 3) % tuple(drift_force))\n",
    "    # Simple translational invariance\n",
    "    for force in forces:\n",
    "        force -= drift_force / forces.shape[0]\n",
    "    set_of_forces.append(forces)"
   ]
  },
  {
   "cell_type": "markdown",
   "metadata": {},
   "source": [
    "## Calculate DOS/Dispersion Relations"
   ]
  },
  {
   "cell_type": "code",
   "execution_count": 10,
   "metadata": {},
   "outputs": [
    {
     "name": "stdout",
     "output_type": "stream",
     "text": [
      "\n",
      "[Phonopy] Phonon frequencies at Gamma:\n",
      "[Phonopy]   1:   -0.10868 THz\n",
      "[Phonopy]   2:   -0.06918 THz\n",
      "[Phonopy]   3:   -0.04924 THz\n",
      "[Phonopy]   4:    6.67963 THz\n",
      "[Phonopy]   5:    9.04856 THz\n",
      "[Phonopy]   6:   15.36626 THz\n",
      "[Phonopy]   7:   18.79894 THz\n",
      "[Phonopy]   8:   20.06193 THz\n",
      "[Phonopy]   9:   24.70905 THz\n",
      "[Phonopy]  10:   25.28452 THz\n",
      "[Phonopy]  11:   30.24240 THz\n",
      "[Phonopy]  12:   31.13604 THz\n",
      "[Phonopy]  13:   34.20419 THz\n",
      "[Phonopy]  14:   40.82365 THz\n",
      "[Phonopy]  15:   41.88905 THz\n",
      "[Phonopy]  16:   43.45973 THz\n",
      "[Phonopy]  17:   43.96304 THz\n",
      "[Phonopy]  18:   45.74953 THz\n",
      "[Phonopy]  19:   45.99805 THz\n",
      "[Phonopy]  20:   47.96009 THz\n",
      "[Phonopy]  21:   50.50487 THz\n",
      "[Phonopy]  22:   53.41767 THz\n",
      "[Phonopy]  23:   53.78784 THz\n",
      "[Phonopy]  24:   55.19374 THz\n",
      "[Phonopy]  25:   56.58010 THz\n",
      "[Phonopy]  26:   57.49527 THz\n",
      "[Phonopy]  27:   60.69958 THz\n",
      "[Phonopy]  28:   69.64178 THz\n",
      "[Phonopy]  29:   72.43094 THz\n",
      "[Phonopy]  30:   74.08291 THz\n",
      "[Phonopy]  31:   89.31354 THz\n",
      "[Phonopy]  32:   90.02199 THz\n",
      "[Phonopy]  33:   91.70466 THz\n",
      "[Phonopy]  34:   92.90944 THz\n",
      "[Phonopy]  35:   93.36439 THz\n",
      "[Phonopy]  36:   94.88702 THz\n",
      "[Phonopy]  37:   96.35011 THz\n",
      "[Phonopy]  38:   99.10880 THz\n",
      "[Phonopy]  39:   99.75405 THz\n",
      "[Phonopy]  40:  100.12659 THz\n",
      "[Phonopy]  41:  100.69015 THz\n",
      "[Phonopy]  42:  103.35827 THz\n",
      "[Phonopy]  43:  105.81308 THz\n",
      "[Phonopy]  44:  107.00885 THz\n",
      "[Phonopy]  45:  109.18695 THz\n",
      "[Phonopy]  46:  122.51968 THz\n",
      "[Phonopy]  47:  123.25109 THz\n",
      "[Phonopy]  48:  124.20909 THz\n",
      "[Phonopy]  49:  331.26430 THz\n",
      "[Phonopy]  50:  432.67459 THz\n",
      "[Phonopy]  51:  436.51516 THz\n",
      "[Phonopy]  52:  438.54592 THz\n",
      "[Phonopy]  53:  440.52478 THz\n",
      "[Phonopy]  54:  441.44941 THz\n",
      "[Phonopy]  55:  451.46647 THz\n",
      "[Phonopy]  56:  753.87791 THz\n",
      "[Phonopy]  57:  765.40129 THz\n"
     ]
    }
   ],
   "source": [
    "phonon.produce_force_constants(forces=set_of_forces)\n",
    "print('')\n",
    "print(\"[Phonopy] Phonon frequencies at Gamma:\")\n",
    "for i, freq in enumerate(phonon.get_frequencies((0, 0, 0))):\n",
    "    print(\"[Phonopy] %3d: %10.5f THz\" %  (i + 1, freq)) # THz\n",
    "\n",
    "# DOS\n",
    "phonon.set_mesh([21, 21, 21])\n",
    "phonon.set_total_DOS(tetrahedron_method=True)\n",
    "omegados = []\n",
    "for omega, dos in np.array(phonon.get_total_DOS()).T:\n",
    "    omegados.append([omega, dos])"
   ]
  },
  {
   "cell_type": "markdown",
   "metadata": {},
   "source": [
    "The negative frequencies at gamma point shown above indicate that **the harmonic approximation fails in a configuration subspace in vicinity of the calculated configuration**. To avoid this, we need to run relax/SCF calculation at higher cutoff energy level."
   ]
  },
  {
   "cell_type": "markdown",
   "metadata": {},
   "source": [
    "## Calculation Band structure by following highly symmetric path"
   ]
  },
  {
   "cell_type": "code",
   "execution_count": 33,
   "metadata": {},
   "outputs": [],
   "source": [
    "from phonopy.phonon.band_structure import get_band_qpoints_and_path_connections\n",
    "import matplotlib.pyplot as plt\n",
    "%matplotlib inline\n",
    "plt.rcParams.update({'font.size': 16})\n",
    "plt.rcParams['figure.figsize'] = [10, 8]\n",
    "path = [[[0, 0, 0], [0.5, 0, 0.5], [0.625, 0.25, 0.625]],\n",
    "        [[0.375, 0.375, 0.75], [0, 0, 0], [0.5, 0.5, 0.5], [0.5, 0.25, 0.75]]]\n",
    "labels = [\"$\\\\Gamma$\", \"X\", \"U\", \"K\", \"$\\\\Gamma$\", \"L\", \"W\"]\n",
    "qpoints, connections = get_band_qpoints_and_path_connections(path, npoints=51)\n",
    "phonon.run_band_structure(qpoints, path_connections=connections, labels=labels)"
   ]
  },
  {
   "cell_type": "markdown",
   "metadata": {},
   "source": [
    "## Plot dispersion relation (spaghetti plot)"
   ]
  },
  {
   "cell_type": "code",
   "execution_count": 45,
   "metadata": {},
   "outputs": [
    {
     "data": {
      "image/png": "[encoded data removed]",
      "text/plain": [
       "<Figure size 720x576 with 4 Axes>"
      ]
     },
     "metadata": {
      "needs_background": "light"
     },
     "output_type": "display_data"
    }
   ],
   "source": [
    "if phonon._band_structure.labels:\n",
    "    from matplotlib import rc\n",
    "    rc('text', usetex=True)\n",
    "\n",
    "    if phonon._band_structure.is_legacy_plot:\n",
    "        fig, axs = plt.subplots(1, 1)\n",
    "    else:\n",
    "        from mpl_toolkits.axes_grid1 import ImageGrid\n",
    "        n = len([x for x in phonon._band_structure.path_connections\n",
    "                 if not x])\n",
    "        fig = plt.figure()\n",
    "        axs = ImageGrid(fig, 111,  # similar to subplot(111)\n",
    "                        nrows_ncols=(1, n),\n",
    "                        axes_pad=0.11,\n",
    "                        label_mode=\"L\")\n",
    "        axs.axes_llc.set_ylim(-50,200)\n",
    "    phonon._band_structure.plot(axs)"
   ]
  },
  {
   "cell_type": "markdown",
   "metadata": {},
   "source": [
    "## Plot DOS"
   ]
  },
  {
   "cell_type": "code",
   "execution_count": 17,
   "metadata": {},
   "outputs": [
    {
     "data": {
      "text/plain": [
       "Text(0, 0.5, 'DOS')"
      ]
     },
     "execution_count": 17,
     "metadata": {},
     "output_type": "execute_result"
    },
    {
     "data": {
      "image/png": "[encoded data removed]",
      "text/plain": [
       "<Figure size 576x432 with 1 Axes>"
      ]
     },
     "metadata": {
      "needs_background": "light"
     },
     "output_type": "display_data"
    }
   ],
   "source": [
    "omegados = np.array(omegados)\n",
    "plt.rcParams.update({'font.size': 12})\n",
    "plt.rcParams['figure.figsize'] = [8, 6]\n",
    "plt.plot(omegados[:,0],omegados[:,1])\n",
    "plt.xlabel('Freq.(THz)')\n",
    "plt.ylabel('DOS')"
   ]
  },
  {
   "cell_type": "markdown",
   "metadata": {},
   "source": [
    "## Plot thermodynamic properties\n",
    "\n",
    "For the equations used below, please check phonopy documentation web page [here](https://phonopy.github.io/phonopy/formulation.html)"
   ]
  },
  {
   "cell_type": "code",
   "execution_count": 18,
   "metadata": {},
   "outputs": [
    {
     "data": {
      "image/png": "[encoded data removed]",
      "text/plain": [
       "<Figure size 576x432 with 1 Axes>"
      ]
     },
     "metadata": {
      "needs_background": "light"
     },
     "output_type": "display_data"
    }
   ],
   "source": [
    "phonon.run_thermal_properties(t_step=10,t_max=1000,t_min=0)\n",
    "tp_dict = phonon.get_thermal_properties_dict()\n",
    "temperatures = tp_dict['temperatures']\n",
    "free_energy = tp_dict['free_energy']\n",
    "entropy = tp_dict['entropy']\n",
    "heat_capacity = tp_dict['heat_capacity']\n",
    "\n",
    "phonon.plot_thermal_properties().show()"
   ]
  },
  {
   "cell_type": "code",
   "execution_count": null,
   "metadata": {},
   "outputs": [],
   "source": []
  }
 ],
 "metadata": {
  "kernelspec": {
   "display_name": "Python 3",
   "language": "python",
   "name": "python3"
  },
  "language_info": {
   "codemirror_mode": {
    "name": "ipython",
    "version": 3
   },
   "file_extension": ".py",
   "mimetype": "text/x-python",
   "name": "python",
   "nbconvert_exporter": "python",
   "pygments_lexer": "ipython3",
   "version": "3.7.4"
  }
 },
 "nbformat": 4,
 "nbformat_minor": 4
}
