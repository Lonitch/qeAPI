{
 "cells": [
  {
   "cell_type": "markdown",
   "metadata": {},
   "source": [
    "## Examples of using `qe2cif.py`\n",
    "\n",
    "The following code shows the ways to read output files from QE calcualations, and write atomic configurations into CIF files"
   ]
  },
  {
   "cell_type": "code",
   "execution_count": 1,
   "metadata": {},
   "outputs": [],
   "source": [
    "from qe2cif import *"
   ]
  },
  {
   "cell_type": "markdown",
   "metadata": {},
   "source": [
    "Let us test `qe2cif.py` by using the file `test_output.out` in the current working directory. First let us obtain the last atomic configuration in the file. The last configuration is usually the relaxed configuration:"
   ]
  },
  {
   "cell_type": "code",
   "execution_count": 2,
   "metadata": {},
   "outputs": [
    {
     "data": {
      "text/plain": [
       "Atoms(symbols='FeNiCN6C5K2O4H8', pbc=True, cell=[[7.220249938052182, 0.0, 0.0], [3.610124969026091, 6.252916952601641, 0.0], [3.610132189276029, 2.0843128711171515, 5.89531963391973]], calculator=SinglePointDFTCalculator(...))"
      ]
     },
     "execution_count": 2,
     "metadata": {},
     "output_type": "execute_result"
    }
   ],
   "source": [
    "atoms=read_espresso_out('test-output.out',index=-1)\n",
    "atoms"
   ]
  },
  {
   "cell_type": "markdown",
   "metadata": {},
   "source": [
    "Properties like `energy(eV)`, `forces(eV/angstrom)`, and `atomic coordinates(anstrom)` can be simply extracted by using the following commands:"
   ]
  },
  {
   "cell_type": "code",
   "execution_count": 3,
   "metadata": {},
   "outputs": [
    {
     "data": {
      "text/plain": [
       "-14118.435698682826"
      ]
     },
     "execution_count": 3,
     "metadata": {},
     "output_type": "execute_result"
    }
   ],
   "source": [
    "atoms.get_total_energy()"
   ]
  },
  {
   "cell_type": "code",
   "execution_count": 4,
   "metadata": {},
   "outputs": [
    {
     "data": {
      "text/plain": [
       "array([[-0.18168572,  0.07835668, -0.00463596],\n",
       "       [ 0.08747253, -0.04669458,  0.01030987],\n",
       "       [-0.08131114, -0.05873557,  0.26267136],\n",
       "       [-0.05913306, -0.20761709, -0.00498485],\n",
       "       [ 0.20780247,  0.0569232 , -0.04665961],\n",
       "       [-0.41246331,  0.19103219, -0.05322106],\n",
       "       [ 0.27638382, -0.1354326 ,  0.19817138],\n",
       "       [-0.05887055, -0.15445131, -0.10061318],\n",
       "       [ 0.06745649,  0.63769375,  0.15852368],\n",
       "       [-0.25405045, -0.01739686,  0.15986785],\n",
       "       [ 0.05132668, -0.20310249,  0.2062521 ],\n",
       "       [-0.20112069,  0.037887  , -0.18409176],\n",
       "       [-0.08979269,  0.21363888,  0.20954105],\n",
       "       [ 0.00544405, -0.10176812, -0.29424939],\n",
       "       [ 0.11103926, -0.06379884,  0.04467446],\n",
       "       [ 0.00724665,  0.01910381, -0.29244242],\n",
       "       [-0.02158647, -0.49076497, -0.29321863],\n",
       "       [ 0.20923123, -0.5922171 , -0.2896628 ],\n",
       "       [ 0.37801541,  0.10349359, -0.20202546],\n",
       "       [ 0.1386074 , -0.31363833,  0.11931821],\n",
       "       [-0.04268288,  0.1673711 ,  0.07996234],\n",
       "       [ 0.17566625,  0.15380673, -0.1389815 ],\n",
       "       [ 0.2250322 ,  0.22209112,  0.1219176 ],\n",
       "       [-0.23127664,  0.40334412,  0.05186018],\n",
       "       [-0.06177461,  0.10966603, -0.02632912],\n",
       "       [-0.15932226, -0.23202818,  0.18984512],\n",
       "       [-0.17734467,  0.29641914,  0.14436333],\n",
       "       [ 0.09169094, -0.07318157, -0.02616303]])"
      ]
     },
     "execution_count": 4,
     "metadata": {},
     "output_type": "execute_result"
    }
   ],
   "source": [
    "atoms.get_forces()"
   ]
  },
  {
   "cell_type": "code",
   "execution_count": 5,
   "metadata": {},
   "outputs": [
    {
     "data": {
      "text/plain": [
       "array([[ 0.05491142,  0.16104471, -0.10652317],\n",
       "       [ 7.33559949,  4.49563649,  2.80034568],\n",
       "       [ 9.458671  ,  5.53723556,  0.70236766],\n",
       "       [ 8.54496594,  5.09038292,  1.28634368],\n",
       "       [ 6.43283379,  2.57818007,  4.60874356],\n",
       "       [ 8.87068897,  3.82504341,  4.05702285],\n",
       "       [ 5.81934433,  5.38011699,  1.76100219],\n",
       "       [ 7.6577897 ,  6.27507313,  3.72915984],\n",
       "       [ 6.58350267,  2.49847381,  1.77031189],\n",
       "       [ 5.33580538,  2.67724847,  5.01533012],\n",
       "       [ 9.6938411 ,  3.24218851,  4.65725042],\n",
       "       [ 4.92214841,  5.76222368,  1.1085187 ],\n",
       "       [ 7.47679033,  7.10012837,  4.54307175],\n",
       "       [ 6.90329731,  1.59407547,  1.09124459],\n",
       "       [ 4.09920182,  1.37918598,  1.01732672],\n",
       "       [10.10155962,  6.08602307,  5.34196032],\n",
       "       [ 4.01418162,  3.51604406,  2.61465886],\n",
       "       [11.90405173,  7.39762107,  3.45962722],\n",
       "       [ 9.25365452,  2.63337917,  1.28857222],\n",
       "       [ 5.12405112,  5.06815357,  4.49571648],\n",
       "       [ 4.42566566,  3.74300748,  3.48504739],\n",
       "       [ 4.2846321 ,  4.27324376,  2.06347495],\n",
       "       [ 1.88441207,  1.44281416,  3.91884735],\n",
       "       [11.17920975,  7.9651468 ,  3.86516626],\n",
       "       [ 9.84668112,  3.12673753,  1.92813096],\n",
       "       [ 8.7407471 ,  2.04791967,  1.88854075],\n",
       "       [ 5.10965147,  5.93112637,  4.00702864],\n",
       "       [ 5.39622243,  5.17539472,  5.44813512]])"
      ]
     },
     "execution_count": 5,
     "metadata": {},
     "output_type": "execute_result"
    }
   ],
   "source": [
    "atoms.get_positions()"
   ]
  },
  {
   "cell_type": "markdown",
   "metadata": {},
   "source": [
    "You can get `fermi energy`, `pressure`, and `total force` of your atomic system from its calculator"
   ]
  },
  {
   "cell_type": "code",
   "execution_count": 6,
   "metadata": {},
   "outputs": [
    {
     "data": {
      "text/plain": [
       "91.55"
      ]
     },
     "execution_count": 6,
     "metadata": {},
     "output_type": "execute_result"
    }
   ],
   "source": [
    "t=atoms.get_calculator()\n",
    "t.get_property('pressure') #kbar"
   ]
  },
  {
   "cell_type": "code",
   "execution_count": 7,
   "metadata": {},
   "outputs": [
    {
     "data": {
      "text/plain": [
       "1.8585476311671218"
      ]
     },
     "execution_count": 7,
     "metadata": {},
     "output_type": "execute_result"
    }
   ],
   "source": [
    "t.get_property('totforce') #eV/angstrom"
   ]
  },
  {
   "cell_type": "code",
   "execution_count": 8,
   "metadata": {},
   "outputs": [
    {
     "data": {
      "text/plain": [
       "5.1695"
      ]
     },
     "execution_count": 8,
     "metadata": {},
     "output_type": "execute_result"
    }
   ],
   "source": [
    "t.get_fermi_level() #eV"
   ]
  },
  {
   "cell_type": "markdown",
   "metadata": {},
   "source": [
    "You can also access single atom in the configuration by calling its index, for example"
   ]
  },
  {
   "cell_type": "code",
   "execution_count": 9,
   "metadata": {},
   "outputs": [
    {
     "data": {
      "text/plain": [
       "Atom('Fe', [0.054911421, 0.161044712, -0.106523171], index=0)"
      ]
     },
     "execution_count": 9,
     "metadata": {},
     "output_type": "execute_result"
    }
   ],
   "source": [
    "atoms[0]"
   ]
  },
  {
   "cell_type": "markdown",
   "metadata": {},
   "source": [
    "To get the chemical symbols of all the atoms, we can simply run:"
   ]
  },
  {
   "cell_type": "code",
   "execution_count": 10,
   "metadata": {},
   "outputs": [
    {
     "name": "stdout",
     "output_type": "stream",
     "text": [
      "['Fe', 'Ni', 'C', 'N', 'N', 'N', 'N', 'N', 'N', 'C', 'C', 'C', 'C', 'C', 'K', 'K', 'O', 'O', 'O', 'O', 'H', 'H', 'H', 'H', 'H', 'H', 'H', 'H']\n"
     ]
    }
   ],
   "source": [
    "print(atoms.get_chemical_symbols())"
   ]
  },
  {
   "cell_type": "markdown",
   "metadata": {},
   "source": [
    "We can also get all the configurations in the file by using `index=':'`. The result is a list of `Atoms` objects. The code below shows that we have 50 different configurations in `test-output.out`."
   ]
  },
  {
   "cell_type": "code",
   "execution_count": 11,
   "metadata": {},
   "outputs": [
    {
     "data": {
      "text/plain": [
       "50"
      ]
     },
     "execution_count": 11,
     "metadata": {},
     "output_type": "execute_result"
    }
   ],
   "source": [
    "configs=read_espresso_out('test-output.out',index=':')\n",
    "len(configs)"
   ]
  },
  {
   "cell_type": "markdown",
   "metadata": {},
   "source": [
    "Now we can simply choose one configuration in `configs` and write them into a cif file. Let us try to write the 5th configuration in `configs`(counting in Python starts with `0`)."
   ]
  },
  {
   "cell_type": "code",
   "execution_count": 12,
   "metadata": {},
   "outputs": [],
   "source": [
    "cif_writer('test-cif.cif',configs[4]) # you can always customize the path for your cif file"
   ]
  },
  {
   "cell_type": "markdown",
   "metadata": {},
   "source": [
    "A `test-cif.cif` file is created in current working directory\n",
    "![cif](images/cif-png.png)"
   ]
  },
  {
   "cell_type": "code",
   "execution_count": 1,
   "metadata": {},
   "outputs": [
    {
     "data": {
      "text/plain": [
       "{'name': 'Sodium',\n",
       " 'appearance': 'silvery white metallic',\n",
       " 'atomic_mass': 22.989769282,\n",
       " 'boil': 1156.09,\n",
       " 'category': 'alkali metal',\n",
       " 'color': None,\n",
       " 'density': 0.968,\n",
       " 'discovered_by': 'Humphry Davy',\n",
       " 'melt': 370.944,\n",
       " 'molar_heat': 28.23,\n",
       " 'named_by': None,\n",
       " 'number': 11,\n",
       " 'period': 3,\n",
       " 'phase': 'Solid',\n",
       " 'source': 'https://en.wikipedia.org/wiki/Sodium',\n",
       " 'spectral_img': 'https://en.wikipedia.org/wiki/File:Sodium_Spectra.jpg',\n",
       " 'summary': 'Sodium /ˈsoʊdiəm/ is a chemical element with symbol Na (from Ancient Greek Νάτριο) and atomic number 11. It is a soft, silver-white, highly reactive metal. In the Periodic table it is in column 1 (alkali metals), and shares with the other six elements in that column that it has a single electron in its outer shell, which it readily donates, creating a positively charged atom - a cation.',\n",
       " 'symbol': 'Na',\n",
       " 'xpos': 1,\n",
       " 'ypos': 3,\n",
       " 'shells': [2, 8, 1],\n",
       " 'electron_configuration': '1s2 2s2 2p6 3s1',\n",
       " 'electron_configuration_semantic': '[Ne] 3s1',\n",
       " 'electron_affinity': 52.867,\n",
       " 'electronegativity_pauling': 0.93,\n",
       " 'ionization_energies': [495.8,\n",
       "  4562,\n",
       "  6910.3,\n",
       "  9543,\n",
       "  13354,\n",
       "  16613,\n",
       "  20117,\n",
       "  25496,\n",
       "  28932,\n",
       "  141362,\n",
       "  159076]}"
      ]
     },
     "execution_count": 1,
     "metadata": {},
     "output_type": "execute_result"
    }
   ],
   "source": [
    "import sys \n",
    "# Always add the following line to let your computer know where the source path is\n",
    "sys.path.insert(1, 'C://Users//liu_s//Desktop//CODE//qeAPI')\n",
    "from qe2cif import *\n",
    "# get information of `Na`\n",
    "read_atomInfo('Na')"
   ]
  },
  {
   "cell_type": "code",
   "execution_count": 2,
   "metadata": {},
   "outputs": [
    {
     "data": {
      "text/plain": [
       "{'name': 'Titanium',\n",
       " 'appearance': 'silvery grey-white metallic',\n",
       " 'atomic_mass': 47.8671,\n",
       " 'boil': 3560,\n",
       " 'category': 'transition metal',\n",
       " 'color': None,\n",
       " 'density': 4.506,\n",
       " 'discovered_by': 'William Gregor',\n",
       " 'melt': 1941,\n",
       " 'molar_heat': 25.06,\n",
       " 'named_by': 'Martin Heinrich Klaproth',\n",
       " 'number': 22,\n",
       " 'period': 4,\n",
       " 'phase': 'Solid',\n",
       " 'source': 'https://en.wikipedia.org/wiki/Titanium',\n",
       " 'spectral_img': None,\n",
       " 'summary': 'Titanium is a chemical element with symbol Ti and atomic number 22. It is a lustrous transition metal with a silver color, low density and high strength. It is highly resistant to corrosion in sea water, aqua regia and chlorine.',\n",
       " 'symbol': 'Ti',\n",
       " 'xpos': 4,\n",
       " 'ypos': 4,\n",
       " 'shells': [2, 8, 10, 2],\n",
       " 'electron_configuration': '1s2 2s2 2p6 3s2 3p6 4s2 3d2',\n",
       " 'electron_configuration_semantic': '[Ar] 3d2 4s2',\n",
       " 'electron_affinity': 7.289,\n",
       " 'electronegativity_pauling': 1.54,\n",
       " 'ionization_energies': [658.8,\n",
       "  1309.8,\n",
       "  2652.5,\n",
       "  4174.6,\n",
       "  9581,\n",
       "  11533,\n",
       "  13590,\n",
       "  16440,\n",
       "  18530,\n",
       "  20833,\n",
       "  25575,\n",
       "  28125,\n",
       "  76015,\n",
       "  83280,\n",
       "  90880,\n",
       "  100700,\n",
       "  109100,\n",
       "  117800,\n",
       "  129900,\n",
       "  137530,\n",
       "  602930,\n",
       "  639294]}"
      ]
     },
     "execution_count": 2,
     "metadata": {},
     "output_type": "execute_result"
    }
   ],
   "source": [
    "# get information of a list of chemical symbols\n",
    "symInfo = read_atomInfo(['O','C','P','Ti'])\n",
    "symInfo['Ti']"
   ]
  },
  {
   "cell_type": "code",
   "execution_count": 3,
   "metadata": {},
   "outputs": [
    {
     "data": {
      "text/plain": [
       "{'name': 'Carbon',\n",
       " 'appearance': None,\n",
       " 'atomic_mass': 12.011,\n",
       " 'boil': None,\n",
       " 'category': 'polyatomic nonmetal',\n",
       " 'color': None,\n",
       " 'density': 1.821,\n",
       " 'discovered_by': 'Ancient Egypt',\n",
       " 'melt': None,\n",
       " 'molar_heat': 8.517,\n",
       " 'named_by': None,\n",
       " 'number': 6,\n",
       " 'period': 2,\n",
       " 'phase': 'Solid',\n",
       " 'source': 'https://en.wikipedia.org/wiki/Carbon',\n",
       " 'spectral_img': 'https://en.wikipedia.org/wiki/File:Carbon_Spectra.jpg',\n",
       " 'summary': 'Carbon (from Latin:carbo \"coal\") is a chemical element with symbol C and atomic number 6. On the periodic table, it is the first (row 2) of six elements in column (group) 14, which have in common the composition of their outer electron shell. It is nonmetallic and tetravalent—making four electrons available to form covalent chemical bonds.',\n",
       " 'symbol': 'C',\n",
       " 'xpos': 14,\n",
       " 'ypos': 2,\n",
       " 'shells': [2, 4],\n",
       " 'electron_configuration': '1s2 2s2 2p2',\n",
       " 'electron_configuration_semantic': '[He] 2s2 2p2',\n",
       " 'electron_affinity': 121.7763,\n",
       " 'electronegativity_pauling': 2.55,\n",
       " 'ionization_energies': [1086.5, 2352.6, 4620.5, 6222.7, 37831, 47277]}"
      ]
     },
     "execution_count": 3,
     "metadata": {},
     "output_type": "execute_result"
    }
   ],
   "source": [
    "from ase import Atoms\n",
    "# get all unique atomic info in a Atoms obj, which is the outcome of `read_espresso_out`\n",
    "# function. Here we use `CO2` molecule as an example\n",
    "d = 1.1\n",
    "co2 = Atoms('CO2', positions=[(0, 0, 0), (0, 0, d),(0,0,-d)])\n",
    "atomInfo = read_atomInfo(co2)\n",
    "atomInfo['C']"
   ]
  },
  {
   "cell_type": "code",
   "execution_count": 4,
   "metadata": {},
   "outputs": [
    {
     "data": {
      "text/plain": [
       "3"
      ]
     },
     "execution_count": 4,
     "metadata": {},
     "output_type": "execute_result"
    }
   ],
   "source": [
    "# If we turn off the `concise` option, information of all the atoms are collected in a list\n",
    "atomInfo = read_atomInfo(co2,concise=False)\n",
    "len(atomInfo)"
   ]
  },
  {
   "cell_type": "code",
   "execution_count": null,
   "metadata": {},
   "outputs": [],
   "source": []
  }
 ],
 "metadata": {
  "kernelspec": {
   "display_name": "Python 3",
   "language": "python",
   "name": "python3"
  },
  "language_info": {
   "codemirror_mode": {
    "name": "ipython",
    "version": 3
   },
   "file_extension": ".py",
   "mimetype": "text/x-python",
   "name": "python",
   "nbconvert_exporter": "python",
   "pygments_lexer": "ipython3",
   "version": "3.7.4"
  }
 },
 "nbformat": 4,
 "nbformat_minor": 2
}
