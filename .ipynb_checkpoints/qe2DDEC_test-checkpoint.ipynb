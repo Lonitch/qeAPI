{
 "cells": [
  {
   "cell_type": "markdown",
   "metadata": {},
   "source": [
    "## Examples of Using `qe2DDEC.py`"
   ]
  },
  {
   "cell_type": "code",
   "execution_count": 1,
   "metadata": {},
   "outputs": [],
   "source": [
    "from qe2DDEC import *\n",
    "\n",
    "# if qe2DDEC is not in your current working dir, uncomment the following comment \n",
    "# and change the path to let you code know where to look for raw2qe.py\n",
    "\n",
    "# import sys\n",
    "# sys.path.insert(1, 'C://Path//to//the//folder')#!!!use single backslash for linux OS\n",
    "\n",
    "# charge density calculations have been run and the results are stored in the following\n",
    "# root folder\n",
    "optroot = \"C://Users//liu_s//Documents//BW_results//DDEC//date-06-15-2020\"\n",
    "# we use the following command to redistribute 248 files into separate folders \n",
    "# so that files with similar names(from the same calculation)\n",
    "# will go to the same folder.\n",
    "# The output files are named as 'cation-name'+'f/h'+a number+'gs'+suffix, \n",
    "# we can do the following to group them into the same folder.\n",
    "\n",
    "# First we create a list for subfolders' names. Strings in the list must be substrings of\n",
    "# files' names. \n",
    "folders = []\n",
    "for cation in ['Li','Na','K','Rb','Cs']:\n",
    "    for a in ['h','f']:\n",
    "        for b in ['1','2','3','4']:\n",
    "            folders.append(cation+a+b)\n",
    "            \n",
    "# assign files into different folders     \n",
    "redistri_opt(optroot,folders)"
   ]
  },
  {
   "cell_type": "markdown",
   "metadata": {},
   "source": [
    "Now you can see below that many folders created in the 'optroot' \n",
    "![](images/distributed-folders.PNG)"
   ]
  },
  {
   "cell_type": "markdown",
   "metadata": {},
   "source": [
    "### Create `job_control.txt` in each subfolder"
   ]
  },
  {
   "cell_type": "code",
   "execution_count": 2,
   "metadata": {},
   "outputs": [],
   "source": [
    "from qe2DDEC import *\n",
    "optroot = \"C://Users//liu_s//Documents//BW_results//DDEC//date-06-15-2020\"\n",
    "# Prepare 'job_control.txt' in each folder\n",
    "folders = []\n",
    "for cation in ['Li','Na','K','Rb','Cs']:\n",
    "    for a in ['h','f']:\n",
    "        for b in ['1','2','3','4']:\n",
    "            folders.append(cation+a+b)\n",
    "for i in folders:\n",
    "    prep_DDECipt(os.path.join(optroot,i))"
   ]
  },
  {
   "cell_type": "markdown",
   "metadata": {},
   "source": [
    "The 'job_control.txt' file is created in each folder. \n",
    "![](generate-job-control.PNG)"
   ]
  },
  {
   "cell_type": "markdown",
   "metadata": {},
   "source": [
    "### Run the binary executable "
   ]
  },
  {
   "cell_type": "code",
   "execution_count": 2,
   "metadata": {},
   "outputs": [
    {
     "name": "stdout",
     "output_type": "stream",
     "text": [
      "complete!\n",
      "complete!\n",
      "complete!\n",
      "complete!\n",
      "complete!\n",
      "complete!\n",
      "complete!\n",
      "complete!\n",
      "complete!\n",
      "complete!\n",
      "complete!\n",
      "complete!\n",
      "complete!\n",
      "complete!\n",
      "complete!\n",
      "complete!\n",
      "complete!\n",
      "complete!\n",
      "complete!\n",
      "complete!\n",
      "complete!\n",
      "complete!\n",
      "complete!\n",
      "complete!\n",
      "complete!\n",
      "complete!\n",
      "complete!\n",
      "complete!\n",
      "complete!\n",
      "complete!\n",
      "complete!\n",
      "complete!\n",
      "complete!\n",
      "complete!\n",
      "complete!\n",
      "complete!\n",
      "complete!\n",
      "complete!\n",
      "complete!\n",
      "complete!\n"
     ]
    }
   ],
   "source": [
    "from qe2DDEC import *\n",
    "import os\n",
    "# Let us proceed to run precompiled binary executable to do DDEC6 analysis\n",
    "# We need a source path to precompiled binary file\n",
    "source = 'C://Users//liu_s//Downloads//chargemol_09_26_2017//chargemol_09_26_2017//chargemol_FORTRAN_09_26_2017//compiled_binaries//windows//Chargemol_09_26_2017_windows_64bits_serial_command_line.exe'\n",
    "# The path to root output folder should be changed into normal WINDOWS format with single\n",
    "# backslash\n",
    "rootPath = r'C:\\Users\\liu_s\\Documents\\BW_results\\DDEC\\date-06-15-2020'\n",
    "folders = []\n",
    "for cation in [r'\\Li',r'\\Na',r'\\K',r'\\Rb',r'\\Cs']:\n",
    "    for a in ['h','f']:\n",
    "        for b in ['1','2','3','4']:\n",
    "            folders.append(rootPath+cation+a+b)\n",
    "for f in folders:\n",
    "    run_DDEC(f,source)"
   ]
  },
  {
   "cell_type": "markdown",
   "metadata": {},
   "source": [
    "Now that the analysis is done for all the 40 cases, we see that some subfolders contain results shown below:\n",
    "\n",
    "![](ddec-with-results.png)"
   ]
  },
  {
   "cell_type": "markdown",
   "metadata": {},
   "source": [
    "But some folders do not\n",
    "\n",
    "![](images/ddec-without-results.PNG)\n",
    "\n",
    "This is likely because of **the electrons that can not be assigned to any nucleus in your system**. You can find it at the \"checkme\" value at the bottom of \"total_cobe_DDEC_analysis.output\" file (see below).\n",
    "\n",
    "![](images/incorrect-net-charge.png)\n",
    "\n",
    "In the case shown above, we have in total $0.13893$ electrons that can not be assigned to any nucleus. It might be caused by the coarse scheme of K-points or the inaccuracy of the pseudopotential you use. You can solve this problem by rerunning SCF calculations using **dense k-points scheme and/or different pseudopotential.**\n",
    "\n",
    "Here, we find that cases with **Rb** atoms in them cannot produce DDEC results properly. We use the Pseudopotential for **Rb** with electron configuration of **[Kr]5s1** to redo the SCF and perform DDEC6 analysis again(see below):"
   ]
  },
  {
   "cell_type": "code",
   "execution_count": 6,
   "metadata": {},
   "outputs": [
    {
     "name": "stdout",
     "output_type": "stream",
     "text": [
      "complete!\n",
      "complete!\n",
      "complete!\n"
     ]
    }
   ],
   "source": [
    "from qe2DDEC import *\n",
    "import os\n",
    "source = 'C://Users//liu_s//Downloads//chargemol_09_26_2017//chargemol_09_26_2017//chargemol_FORTRAN_09_26_2017//compiled_binaries//windows//Chargemol_09_26_2017_windows_64bits_serial_command_line.exe'\n",
    "# The path to root output folder should be changed into normal WINDOWS format with single \n",
    "# backslash\n",
    "rootPath = r'C:\\Users\\liu_s\\Documents\\BW_results\\DDEC\\date-06-15-2020'\n",
    "folders = []\n",
    "for cation in [r'\\Rbf2',r'\\Rbf3',r'\\Rbf4']:\n",
    "            folders.append(rootPath+cation)\n",
    "for f in folders:\n",
    "    run_DDEC(f,source)"
   ]
  },
  {
   "cell_type": "markdown",
   "metadata": {},
   "source": [
    "Sometimes, using different pseudopotentials could cause incorrect calculation of the number of core electrons. The **'checkme' in `total_cube_DDEC_analysis.output` is a integer** in this case. To correct `net charge` parameter, We can simply add the value of 'checkme' back to the `net charge` parameter using the function of `checkme`(see below)."
   ]
  },
  {
   "cell_type": "code",
   "execution_count": 5,
   "metadata": {},
   "outputs": [
    {
     "name": "stdout",
     "output_type": "stream",
     "text": [
      "checkme is not integer\n",
      "checkme is not integer\n",
      "checkme is not integer\n",
      "checkme is not integer\n"
     ]
    }
   ],
   "source": [
    "# We use 'checkme' function to change job_cotrol files for the failed cases\n",
    "from qe2DDEC import *\n",
    "import os\n",
    "rootPath = 'C://Users//liu_s//Documents//BW_results//DDEC//date-06-15-2020//'\n",
    "for c in ['Rbf1','Rbf2','Rbf3','Rbf4']:\n",
    "    checkme(rootPath+c)"
   ]
  },
  {
   "cell_type": "markdown",
   "metadata": {},
   "source": [
    "If the `checkme` is not an integer, the function will tell you that (see the outputs above), and you need to consider if you should redo the DFT calculations"
   ]
  },
  {
   "cell_type": "markdown",
   "metadata": {},
   "source": [
    "### Extract useful data from DDEC6 analysis results\n",
    "Let us first get some bond order data for each atoms in the system. Here we use the function `bond_order`, which only takes source path as the argument. The outcome is a dictionary with three entries: \n",
    "- (1) `atomNames`,the chemical symbols of all the atoms,\n",
    "- (2) `totalBO`, total bond order of each atom,\n",
    "- (3) and `mtx`, a $M\\times M$ matrix with `mtx[i][j]` being bond order between ith and jth atom"
   ]
  },
  {
   "cell_type": "code",
   "execution_count": 1,
   "metadata": {},
   "outputs": [],
   "source": [
    "from qe2DDEC import *\n",
    "iptpath = 'C://Users//liu_s//Documents//BW_results//DDEC//date-06-15-2020//Rbf1'\n",
    "bo=bond_order(iptpath)"
   ]
  },
  {
   "cell_type": "markdown",
   "metadata": {},
   "source": [
    "We then use `matshow` function in `matplotlib` package to show the relative magnitude of bond order values."
   ]
  },
  {
   "cell_type": "code",
   "execution_count": 2,
   "metadata": {},
   "outputs": [
    {
     "data": {
      "image/png": "[encoded data removed]",
      "text/plain": [
       "<Figure size 288x288 with 1 Axes>"
      ]
     },
     "metadata": {
      "needs_background": "light"
     },
     "output_type": "display_data"
    }
   ],
   "source": [
    "import numpy as np\n",
    "import matplotlib.pyplot as plt\n",
    "from matplotlib import cm\n",
    "%matplotlib inline\n",
    "plt.matshow(np.array(bo['mtx']),cmap=cm.binary)\n",
    "x=plt.xticks(np.arange(len(bo['atomNames'])),bo['atomNames'])\n",
    "y=plt.yticks(np.arange(len(bo['atomNames'])),bo['atomNames'])"
   ]
  },
  {
   "cell_type": "markdown",
   "metadata": {},
   "source": [
    "As expected, `C-N` pairs have highest bond orders while `Fe-C` and `Ni-N` pairs are also bounded."
   ]
  },
  {
   "cell_type": "markdown",
   "metadata": {},
   "source": [
    "We now try to get some data from `overlap_population` analysis. The function `overlap_pop` should be used here. The detailed explanation of required arguments is shown in `qe2DDEC.py`. Let us first find overlap population of single atoms:"
   ]
  },
  {
   "cell_type": "code",
   "execution_count": 3,
   "metadata": {},
   "outputs": [],
   "source": [
    "single = overlap_pop(iptpath,{1:['Rb','O', 'H']})"
   ]
  },
  {
   "cell_type": "markdown",
   "metadata": {},
   "source": [
    "The result below show that the elctron orbitals on `O` primarily overlaps with `H`, indicating the negligible orbital overlapping between `Rb` and `O`."
   ]
  },
  {
   "cell_type": "code",
   "execution_count": 4,
   "metadata": {},
   "outputs": [
    {
     "data": {
      "text/plain": [
       "{'Rb': [0.47442752299999996, 0.3182807722],\n",
       " 'O': [1.4970663253],\n",
       " 'H': [0.7600419889000001, 0.7627890968]}"
      ]
     },
     "execution_count": 4,
     "metadata": {},
     "output_type": "execute_result"
    }
   ],
   "source": [
    "single"
   ]
  },
  {
   "cell_type": "markdown",
   "metadata": {},
   "source": [
    "Using 2-body inputs we find that `Rb-O` interaction is much more significant than `Rb-C` interactions"
   ]
  },
  {
   "cell_type": "code",
   "execution_count": 5,
   "metadata": {},
   "outputs": [
    {
     "data": {
      "text/plain": [
       "{('Rb', 'O'): [0.0906484105, 0.045064095],\n",
       " ('Rb', 'C'): [0.1766862616, 0.15024616079999997]}"
      ]
     },
     "execution_count": 5,
     "metadata": {},
     "output_type": "execute_result"
    }
   ],
   "source": [
    "double = overlap_pop(iptpath,{2:[('Rb','O'),('Rb','C')]})\n",
    "double"
   ]
  },
  {
   "cell_type": "markdown",
   "metadata": {},
   "source": [
    "To find the overlap population of a **triplet**, we need to specify the symbols of three atoms first by using chemical symbol list"
   ]
  },
  {
   "cell_type": "code",
   "execution_count": 6,
   "metadata": {},
   "outputs": [
    {
     "name": "stdout",
     "output_type": "stream",
     "text": [
      "['Ni', 'Fe', 'N', 'N', 'N', 'N', 'N', 'N', 'C', 'C', 'C', 'C', 'C', 'C', 'Rb', 'Rb', 'O', 'H', 'H']\n"
     ]
    }
   ],
   "source": [
    "print(bo['atomNames'])"
   ]
  },
  {
   "cell_type": "markdown",
   "metadata": {},
   "source": [
    "Let us find the overlap population of the triplet made of `N`,`Ni`, and `N`"
   ]
  },
  {
   "cell_type": "code",
   "execution_count": 7,
   "metadata": {},
   "outputs": [],
   "source": [
    "triplet = overlap_pop(iptpath,{3:[('N','Ni','N')]})"
   ]
  },
  {
   "cell_type": "markdown",
   "metadata": {},
   "source": [
    "The result is a dictionary with keys being 3-tuples of atom indices"
   ]
  },
  {
   "cell_type": "code",
   "execution_count": 8,
   "metadata": {},
   "outputs": [
    {
     "data": {
      "text/plain": [
       "{(2, 3, 0): 0.5234995542,\n",
       " (2, 4, 0): 0.5133104514,\n",
       " (2, 5, 0): 0.5817953119,\n",
       " (2, 6, 0): 0.5209039392999999,\n",
       " (2, 7, 0): 0.553183649,\n",
       " (3, 4, 0): 0.5088379507,\n",
       " (3, 5, 0): 0.5696401956999999,\n",
       " (3, 6, 0): 0.5162010387,\n",
       " (3, 7, 0): 0.5477988655,\n",
       " (4, 5, 0): 0.5086229167999999,\n",
       " (4, 6, 0): 0.506824441,\n",
       " (4, 7, 0): 0.5564678844000001,\n",
       " (5, 6, 0): 0.5162548503000001,\n",
       " (5, 7, 0): 0.5246753221,\n",
       " (6, 7, 0): 0.49293072410000005}"
      ]
     },
     "execution_count": 8,
     "metadata": {},
     "output_type": "execute_result"
    }
   ],
   "source": [
    "triplet"
   ]
  },
  {
   "cell_type": "markdown",
   "metadata": {},
   "source": [
    "If your triplet has `n` duplicated atom symbols `A` but your system only has `m`(`m<n`) `A`-atom, the function will generate the index tuple in an outer-product style, i.e. $m\\bigoplus m$ for `n` times. For example, let us see what would happen in the following case where we only have one `O` in the system:"
   ]
  },
  {
   "cell_type": "code",
   "execution_count": 9,
   "metadata": {},
   "outputs": [
    {
     "data": {
      "text/plain": [
       "{(16, 16, 14): 0.0906484105, (16, 16, 15): 0.045064095}"
      ]
     },
     "execution_count": 9,
     "metadata": {},
     "output_type": "execute_result"
    }
   ],
   "source": [
    "overlap_pop(iptpath,{3:[('Rb','O','O')]})"
   ]
  },
  {
   "cell_type": "code",
   "execution_count": 10,
   "metadata": {},
   "outputs": [
    {
     "data": {
      "text/plain": [
       "{(16, 16, 16): 0}"
      ]
     },
     "execution_count": 10,
     "metadata": {},
     "output_type": "execute_result"
    }
   ],
   "source": [
    "overlap_pop(iptpath,{3:[('O','O','O')]})"
   ]
  },
  {
   "cell_type": "markdown",
   "metadata": {},
   "source": [
    "Similar for **quadruplets**. For the quadruplet of `Ni`,`Rb`,`Rb`,`O`, we have"
   ]
  },
  {
   "cell_type": "code",
   "execution_count": 11,
   "metadata": {},
   "outputs": [
    {
     "data": {
      "text/plain": [
       "{(14, 15, 0, 16): 0.13891139289999999}"
      ]
     },
     "execution_count": 11,
     "metadata": {},
     "output_type": "execute_result"
    }
   ],
   "source": [
    "quadruplet = overlap_pop(iptpath,{4:[('Ni','Rb','Rb','O')]})\n",
    "quadruplet"
   ]
  },
  {
   "cell_type": "markdown",
   "metadata": {},
   "source": [
    "Also"
   ]
  },
  {
   "cell_type": "code",
   "execution_count": 12,
   "metadata": {},
   "outputs": [
    {
     "data": {
      "text/plain": [
       "{(2, 3, 4, 5): 0.1136258654,\n",
       " (2, 3, 4, 6): 0.0058306250999999995,\n",
       " (2, 3, 4, 7): 0.1830929467,\n",
       " (2, 3, 5, 6): 0.11370057030000001,\n",
       " (2, 3, 5, 7): 0.2497399203,\n",
       " (2, 3, 6, 7): 0.1119985578,\n",
       " (2, 4, 5, 6): 0.06254983730000001,\n",
       " (2, 4, 5, 7): 0.2166348039,\n",
       " (2, 4, 6, 7): 0.1305341226,\n",
       " (2, 5, 6, 7): 0.1458092605,\n",
       " (3, 4, 5, 6): 0.054967503499999994,\n",
       " (3, 4, 5, 7): 0.20837058719999998,\n",
       " (3, 4, 6, 7): 0.12972212149999998,\n",
       " (3, 5, 6, 7): 0.1373146439,\n",
       " (4, 5, 6, 7): 0.10502203260000001}"
      ]
     },
     "execution_count": 12,
     "metadata": {},
     "output_type": "execute_result"
    }
   ],
   "source": [
    "overlap_pop(iptpath,{4:[('N','N','N','N')]})"
   ]
  },
  {
   "cell_type": "markdown",
   "metadata": {},
   "source": [
    "If we only have two `Rb` in the system but three `Rb` is used, we have:"
   ]
  },
  {
   "cell_type": "code",
   "execution_count": 13,
   "metadata": {},
   "outputs": [
    {
     "data": {
      "text/plain": [
       "{(14, 14, 14, 2): 0.0086539974,\n",
       " (14, 14, 14, 3): 0.0291615687,\n",
       " (14, 14, 14, 4): 0.0601445256,\n",
       " (14, 14, 14, 5): 0.0090143974,\n",
       " (14, 14, 14, 6): 0.0551586652,\n",
       " (14, 14, 14, 7): 0.008632179,\n",
       " (14, 14, 15, 2): 0.0325410779,\n",
       " (14, 14, 15, 3): 0.053215185500000005,\n",
       " (14, 14, 15, 4): 0.08511512140000001,\n",
       " (14, 14, 15, 5): 0.0170038135,\n",
       " (14, 14, 15, 6): 0.0675437202,\n",
       " (14, 14, 15, 7): 0.0143445728,\n",
       " (14, 15, 14, 2): 0.0330322448,\n",
       " (14, 15, 14, 3): 0.053706352400000004,\n",
       " (14, 15, 14, 4): 0.08560628830000001,\n",
       " (14, 15, 14, 5): 0.0174949804,\n",
       " (14, 15, 14, 6): 0.06803488710000001,\n",
       " (14, 15, 14, 7): 0.0148357397,\n",
       " (14, 15, 15, 2): 0.0325410779,\n",
       " (14, 15, 15, 3): 0.053215185500000005,\n",
       " (14, 15, 15, 4): 0.08511512140000001,\n",
       " (14, 15, 15, 5): 0.0170038135,\n",
       " (14, 15, 15, 6): 0.0675437202,\n",
       " (14, 15, 15, 7): 0.0143445728,\n",
       " (15, 14, 14, 2): 0.0325410779,\n",
       " (15, 14, 14, 3): 0.053215185500000005,\n",
       " (15, 14, 14, 4): 0.08511512140000001,\n",
       " (15, 14, 14, 5): 0.0170038135,\n",
       " (15, 14, 14, 6): 0.0675437202,\n",
       " (15, 14, 14, 7): 0.0143445728,\n",
       " (15, 14, 15, 2): 0.0330322448,\n",
       " (15, 14, 15, 3): 0.053706352400000004,\n",
       " (15, 14, 15, 4): 0.08560628830000001,\n",
       " (15, 14, 15, 5): 0.0174949804,\n",
       " (15, 14, 15, 6): 0.06803488710000001,\n",
       " (15, 14, 15, 7): 0.0148357397,\n",
       " (15, 15, 14, 2): 0.0325410779,\n",
       " (15, 15, 14, 3): 0.053215185500000005,\n",
       " (15, 15, 14, 4): 0.08511512140000001,\n",
       " (15, 15, 14, 5): 0.0170038135,\n",
       " (15, 15, 14, 6): 0.0675437202,\n",
       " (15, 15, 14, 7): 0.0143445728,\n",
       " (15, 15, 15, 2): 0.0233959136,\n",
       " (15, 15, 15, 3): 0.0235624499,\n",
       " (15, 15, 15, 4): 0.0244794289,\n",
       " (15, 15, 15, 5): 0.0074982492,\n",
       " (15, 15, 15, 6): 0.0118938881,\n",
       " (15, 15, 15, 7): 0.0052212269}"
      ]
     },
     "execution_count": 13,
     "metadata": {},
     "output_type": "execute_result"
    }
   ],
   "source": [
    "overlap_pop(iptpath,{4:[('Rb','Rb','Rb','N')]})"
   ]
  },
  {
   "cell_type": "markdown",
   "metadata": {},
   "source": [
    "Similarly, if we have one `O` atom in the system but four is used in the tuple, we have:"
   ]
  },
  {
   "cell_type": "code",
   "execution_count": 14,
   "metadata": {},
   "outputs": [
    {
     "data": {
      "text/plain": [
       "{(16, 16, 16, 16): 0}"
      ]
     },
     "execution_count": 14,
     "metadata": {},
     "output_type": "execute_result"
    }
   ],
   "source": [
    "overlap_pop(iptpath,{4:[('O','O','O','O')]})"
   ]
  },
  {
   "cell_type": "markdown",
   "metadata": {},
   "source": [
    "The single `O` atom in the system is well-screened by their neighbors so it doesn't see its images"
   ]
  },
  {
   "cell_type": "code",
   "execution_count": 15,
   "metadata": {},
   "outputs": [
    {
     "data": {
      "text/plain": [
       "{(16, 16, 16): 0}"
      ]
     },
     "execution_count": 15,
     "metadata": {},
     "output_type": "execute_result"
    }
   ],
   "source": [
    "overlap_pop(iptpath,{3:[('O','O','O')]})"
   ]
  }
 ],
 "metadata": {
  "kernelspec": {
   "display_name": "Python 3",
   "language": "python",
   "name": "python3"
  },
  "language_info": {
   "codemirror_mode": {
    "name": "ipython",
    "version": 3
   },
   "file_extension": ".py",
   "mimetype": "text/x-python",
   "name": "python",
   "nbconvert_exporter": "python",
   "pygments_lexer": "ipython3",
   "version": "3.7.4"
  }
 },
 "nbformat": 4,
 "nbformat_minor": 2
}
