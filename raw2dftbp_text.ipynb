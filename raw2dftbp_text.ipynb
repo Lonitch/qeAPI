{
 "cells": [
  {
   "cell_type": "code",
   "execution_count": 1,
   "id": "d6c4b5b7",
   "metadata": {},
   "outputs": [],
   "source": [
    "from raw2dftbp import *"
   ]
  },
  {
   "cell_type": "code",
   "execution_count": 2,
   "id": "c43adf29",
   "metadata": {},
   "outputs": [],
   "source": [
    "cif = '/Users/sizheliu/Desktop/MOFproject/primitiveCIF/IRMOF-1.cif'\n",
    "sv = '/Users/sizheliu/Desktop/MOFproject/primitiveResults/IRMOF-1/'\n",
    "settings = [{'Dispersion':'Yes'},{'Dispersion-3B':'Yes'},\n",
    "            {'Spin':'Colinear'},{'Spin':'Colinear-relax'},{'Spin':'Noncolinear'},\n",
    "            {'Dispersion':'Yes','Spin':'Colinear'},{'Dispersion':'Yes','Spin':'Colinear-relax'},\n",
    "            {'Dispersion':'Yes','Spin':'Noncolinear'},{'Dispersion-3B':'Yes','Spin':'Colinear'},\n",
    "            {'Dispersion-3B':'Yes','Spin':'Colinear-relax'},{'Dispersion-3B':'Yes','Spin':'Noncolinear'},\n",
    "           ]\n",
    "labels = ['vdW','vdw3b','scol','scolrlx','snoncol','vdw+scol','vdw+scolrlx','vdw+snoncol',\n",
    "         'vdw3b+scol','vdw3b+scolrlx','vdw3b+snoncol']\n",
    "for s,l in zip(settings,labels):\n",
    "    prep_dftb_input(sv+l,cifpath=cif,args=s)"
   ]
  },
  {
   "cell_type": "code",
   "execution_count": 147,
   "id": "75b9f69a",
   "metadata": {},
   "outputs": [
    {
     "data": {
      "text/plain": [
       "True"
      ]
     },
     "execution_count": 147,
     "metadata": {},
     "output_type": "execute_result"
    }
   ],
   "source": [
    "not ''"
   ]
  },
  {
   "cell_type": "code",
   "execution_count": null,
   "id": "216b2bef",
   "metadata": {},
   "outputs": [],
   "source": []
  }
 ],
 "metadata": {
  "kernelspec": {
   "display_name": "Python 3",
   "language": "python",
   "name": "python3"
  },
  "language_info": {
   "codemirror_mode": {
    "name": "ipython",
    "version": 3
   },
   "file_extension": ".py",
   "mimetype": "text/x-python",
   "name": "python",
   "nbconvert_exporter": "python",
   "pygments_lexer": "ipython3",
   "version": "3.8.8"
  }
 },
 "nbformat": 4,
 "nbformat_minor": 5
}
