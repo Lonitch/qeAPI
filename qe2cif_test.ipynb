{
 "cells": [
  {
   "cell_type": "markdown",
   "metadata": {},
   "source": [
    "## Examples of using `qe2cif.py`\n",
    "\n",
    "The following code shows the ways to read output files from QE calcualations, and write atomic configurations into CIF files"
   ]
  },
  {
   "cell_type": "code",
   "execution_count": 1,
   "metadata": {},
   "outputs": [],
   "source": [
    "from qe2cif import *"
   ]
  },
  {
   "cell_type": "markdown",
   "metadata": {},
   "source": [
    "Let us test `qe2cif.py` by using the file `test_output.out` in the current working directory. First let us obtain the last atomic configuration in the file. The last configuration is usually the relaxed configuration:"
   ]
  },
  {
   "cell_type": "code",
   "execution_count": 2,
   "metadata": {},
   "outputs": [
    {
     "data": {
      "text/plain": [
       "Atoms(symbols='FeNiCN6C5K2O4H8', pbc=True, cell=[[7.220249938052182, 0.0, 0.0], [3.610124969026091, 6.252916952601641, 0.0], [3.610132189276029, 2.0843128711171515, 5.89531963391973]], calculator=SinglePointDFTCalculator(...))"
      ]
     },
     "execution_count": 2,
     "metadata": {},
     "output_type": "execute_result"
    }
   ],
   "source": [
    "atoms=read_espresso_out('test-output.out',index=-1)\n",
    "atoms"
   ]
  },
  {
   "cell_type": "markdown",
   "metadata": {},
   "source": [
    "Properties like `energy(eV)`, `forces(eV/angstrom)`, and `atomic coordinates(anstrom)` can be simply extracted by using the following commands:"
   ]
  },
  {
   "cell_type": "code",
   "execution_count": 3,
   "metadata": {},
   "outputs": [
    {
     "data": {
      "text/plain": [
       "-14118.435698682826"
      ]
     },
     "execution_count": 3,
     "metadata": {},
     "output_type": "execute_result"
    }
   ],
   "source": [
    "atoms.get_total_energy()"
   ]
  },
  {
   "cell_type": "code",
   "execution_count": 4,
   "metadata": {},
   "outputs": [
    {
     "data": {
      "text/plain": [
       "array([[-0.18168572,  0.07835668, -0.00463596],\n",
       "       [ 0.08747253, -0.04669458,  0.01030987],\n",
       "       [-0.08131114, -0.05873557,  0.26267136],\n",
       "       [-0.05913306, -0.20761709, -0.00498485],\n",
       "       [ 0.20780247,  0.0569232 , -0.04665961],\n",
       "       [-0.41246331,  0.19103219, -0.05322106],\n",
       "       [ 0.27638382, -0.1354326 ,  0.19817138],\n",
       "       [-0.05887055, -0.15445131, -0.10061318],\n",
       "       [ 0.06745649,  0.63769375,  0.15852368],\n",
       "       [-0.25405045, -0.01739686,  0.15986785],\n",
       "       [ 0.05132668, -0.20310249,  0.2062521 ],\n",
       "       [-0.20112069,  0.037887  , -0.18409176],\n",
       "       [-0.08979269,  0.21363888,  0.20954105],\n",
       "       [ 0.00544405, -0.10176812, -0.29424939],\n",
       "       [ 0.11103926, -0.06379884,  0.04467446],\n",
       "       [ 0.00724665,  0.01910381, -0.29244242],\n",
       "       [-0.02158647, -0.49076497, -0.29321863],\n",
       "       [ 0.20923123, -0.5922171 , -0.2896628 ],\n",
       "       [ 0.37801541,  0.10349359, -0.20202546],\n",
       "       [ 0.1386074 , -0.31363833,  0.11931821],\n",
       "       [-0.04268288,  0.1673711 ,  0.07996234],\n",
       "       [ 0.17566625,  0.15380673, -0.1389815 ],\n",
       "       [ 0.2250322 ,  0.22209112,  0.1219176 ],\n",
       "       [-0.23127664,  0.40334412,  0.05186018],\n",
       "       [-0.06177461,  0.10966603, -0.02632912],\n",
       "       [-0.15932226, -0.23202818,  0.18984512],\n",
       "       [-0.17734467,  0.29641914,  0.14436333],\n",
       "       [ 0.09169094, -0.07318157, -0.02616303]])"
      ]
     },
     "execution_count": 4,
     "metadata": {},
     "output_type": "execute_result"
    }
   ],
   "source": [
    "atoms.get_forces()"
   ]
  },
  {
   "cell_type": "code",
   "execution_count": 5,
   "metadata": {},
   "outputs": [
    {
     "data": {
      "text/plain": [
       "array([[ 0.05491142,  0.16104471, -0.10652317],\n",
       "       [ 7.33559949,  4.49563649,  2.80034568],\n",
       "       [ 9.458671  ,  5.53723556,  0.70236766],\n",
       "       [ 8.54496594,  5.09038292,  1.28634368],\n",
       "       [ 6.43283379,  2.57818007,  4.60874356],\n",
       "       [ 8.87068897,  3.82504341,  4.05702285],\n",
       "       [ 5.81934433,  5.38011699,  1.76100219],\n",
       "       [ 7.6577897 ,  6.27507313,  3.72915984],\n",
       "       [ 6.58350267,  2.49847381,  1.77031189],\n",
       "       [ 5.33580538,  2.67724847,  5.01533012],\n",
       "       [ 9.6938411 ,  3.24218851,  4.65725042],\n",
       "       [ 4.92214841,  5.76222368,  1.1085187 ],\n",
       "       [ 7.47679033,  7.10012837,  4.54307175],\n",
       "       [ 6.90329731,  1.59407547,  1.09124459],\n",
       "       [ 4.09920182,  1.37918598,  1.01732672],\n",
       "       [10.10155962,  6.08602307,  5.34196032],\n",
       "       [ 4.01418162,  3.51604406,  2.61465886],\n",
       "       [11.90405173,  7.39762107,  3.45962722],\n",
       "       [ 9.25365452,  2.63337917,  1.28857222],\n",
       "       [ 5.12405112,  5.06815357,  4.49571648],\n",
       "       [ 4.42566566,  3.74300748,  3.48504739],\n",
       "       [ 4.2846321 ,  4.27324376,  2.06347495],\n",
       "       [ 1.88441207,  1.44281416,  3.91884735],\n",
       "       [11.17920975,  7.9651468 ,  3.86516626],\n",
       "       [ 9.84668112,  3.12673753,  1.92813096],\n",
       "       [ 8.7407471 ,  2.04791967,  1.88854075],\n",
       "       [ 5.10965147,  5.93112637,  4.00702864],\n",
       "       [ 5.39622243,  5.17539472,  5.44813512]])"
      ]
     },
     "execution_count": 5,
     "metadata": {},
     "output_type": "execute_result"
    }
   ],
   "source": [
    "atoms.get_positions()"
   ]
  },
  {
   "cell_type": "markdown",
   "metadata": {},
   "source": [
    "Unfortunately, you cannot get `pressure` of your atomic system using a proper function in current version of `qe2cif.py`"
   ]
  },
  {
   "cell_type": "markdown",
   "metadata": {},
   "source": [
    "You can also access single atom in the configuration by calling its index, for example"
   ]
  },
  {
   "cell_type": "code",
   "execution_count": 6,
   "metadata": {},
   "outputs": [
    {
     "data": {
      "text/plain": [
       "Atom('Fe', [0.054911421, 0.161044712, -0.106523171], index=0)"
      ]
     },
     "execution_count": 6,
     "metadata": {},
     "output_type": "execute_result"
    }
   ],
   "source": [
    "atoms[0]"
   ]
  },
  {
   "cell_type": "markdown",
   "metadata": {},
   "source": [
    "To get the chemical symbols of all the atoms, we can simply run:"
   ]
  },
  {
   "cell_type": "code",
   "execution_count": 7,
   "metadata": {},
   "outputs": [
    {
     "name": "stdout",
     "output_type": "stream",
     "text": [
      "['Fe', 'Ni', 'C', 'N', 'N', 'N', 'N', 'N', 'N', 'C', 'C', 'C', 'C', 'C', 'K', 'K', 'O', 'O', 'O', 'O', 'H', 'H', 'H', 'H', 'H', 'H', 'H', 'H']\n"
     ]
    }
   ],
   "source": [
    "print(atoms.get_chemical_symbols())"
   ]
  },
  {
   "cell_type": "markdown",
   "metadata": {},
   "source": [
    "We can also get all the configurations in the file by using `index=':'`. The result is a list of `Atoms` objects. The code below shows that we have 50 different configurations in `test-output.out`."
   ]
  },
  {
   "cell_type": "code",
   "execution_count": 8,
   "metadata": {},
   "outputs": [
    {
     "data": {
      "text/plain": [
       "50"
      ]
     },
     "execution_count": 8,
     "metadata": {},
     "output_type": "execute_result"
    }
   ],
   "source": [
    "configs=read_espresso_out('test-output.out',index=':')\n",
    "len(configs)"
   ]
  },
  {
   "cell_type": "markdown",
   "metadata": {},
   "source": [
    "Now we can simply choose one configuration in `configs` and write them into a cif file. Let us try to write the 5th configuration in `configs`(counting in Python starts with `0`)."
   ]
  },
  {
   "cell_type": "code",
   "execution_count": 9,
   "metadata": {},
   "outputs": [],
   "source": [
    "cif_writer('test-cif.cif',configs[4]) # you can always customize the path for your cif file"
   ]
  },
  {
   "cell_type": "markdown",
   "metadata": {},
   "source": [
    "A `test-cif.cif` file is created in current working directory\n",
    "![cif](images/cif-png.png)"
   ]
  },
  {
   "cell_type": "code",
   "execution_count": null,
   "metadata": {},
   "outputs": [],
   "source": []
  }
 ],
 "metadata": {
  "kernelspec": {
   "display_name": "Python 3",
   "language": "python",
   "name": "python3"
  },
  "language_info": {
   "codemirror_mode": {
    "name": "ipython",
    "version": 3
   },
   "file_extension": ".py",
   "mimetype": "text/x-python",
   "name": "python",
   "nbconvert_exporter": "python",
   "pygments_lexer": "ipython3",
   "version": "3.7.4"
  }
 },
 "nbformat": 4,
 "nbformat_minor": 2
}
