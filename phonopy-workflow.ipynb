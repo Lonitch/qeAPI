{
 "cells": [
  {
   "cell_type": "markdown",
   "metadata": {},
   "source": [
    "# Use Phonopy with qeAPI\n",
    "Phonon/dispersion calculation could be time-consuming and hard to crack for a new comer. The following code is a standard work flow for using [phonopy](https://phonopy.github.io/phonopy/) with our qeAPI."
   ]
  },
  {
   "cell_type": "markdown",
   "metadata": {},
   "source": [
    "## First Steps\n",
    "\n",
    "We need to install `phonopy` first. You can do it through anaconda or using source code. \n",
    "- For anaconda users, just open the anaconda prompt and type `conda install -c conda-forge phonopy` \n",
    "- For those who want to compile phonopy from source code,\n",
    "    - first make sure that *Visual C++ 14.0* is installed using [Visual C++ Build tool](http://go.microsoft.com/fwlink/?LinkId=691126&fixForIE=.exe.)\n",
    "    - Run the following commands in a python visual environment(`.venv`) command prompt:\n",
    "        - `git clone https://github.com/phonopy/phonopy.git`\n",
    "        - `cd phonopy`\n",
    "        - `git checkout master`\n",
    "        - `python setup.py build`\n",
    "        - `pip install -e .`\n",
    "    - If you're lucky, nothing abnormal would happen and you are good to use `phonopy`. However, `phonopy` installation depends on `numpy`, but it may fail sanity check while `pip` builds wheel. A workaround could be degrading `numpy ` using a command of `pip install numpy==1.19.3`. This method cannot guarantee the installation will succeed, so using anaconda is currently the best way."
   ]
  },
  {
   "cell_type": "code",
   "execution_count": 1,
   "metadata": {},
   "outputs": [],
   "source": [
    "import numpy as np\n",
    "from phonopy import Phonopy\n",
    "from phonopy.structure.atoms import PhonopyAtoms\n",
    "from ase.io import read"
   ]
  },
  {
   "cell_type": "markdown",
   "metadata": {},
   "source": [
    "## Prepare supercells with atomic displacements\n",
    "The workflow starts from a cif file of a ground-state configuration, which could be an unit cell or a supercell."
   ]
  },
  {
   "cell_type": "code",
   "execution_count": 2,
   "metadata": {},
   "outputs": [],
   "source": [
    "file = 'path//to//a//cif//file.cif'\n",
    "preatoms = read(file)"
   ]
  },
  {
   "cell_type": "code",
   "execution_count": 3,
   "metadata": {},
   "outputs": [],
   "source": [
    "syms = preatoms.get_chemical_symbols()\n",
    "cell = np.array(preatoms.get_cell())\n",
    "spos = preatoms.get_scaled_positions()"
   ]
  },
  {
   "cell_type": "code",
   "execution_count": 4,
   "metadata": {},
   "outputs": [],
   "source": [
    "import os\n",
    "tag = os.path.split(file)[-1][:-4]"
   ]
  },
  {
   "cell_type": "markdown",
   "metadata": {},
   "source": [
    "The following code generates supercells with displacements which have the same size as the original configuration. (see the third command below) You can also choose to generate larger supercells. A rule of thumb is that **supercells should have lattice constant ~10 Angstrom**"
   ]
  },
  {
   "cell_type": "code",
   "execution_count": 5,
   "metadata": {},
   "outputs": [],
   "source": [
    "from phonopy.units import PwscfToTHz\n",
    "unitcell = PhonopyAtoms(symbols=syms,cell=(cell),scaled_positions=spos)\n",
    "phonon = Phonopy(unitcell,[[1, 0, 0], [0, 1, 0], [0, 0, 1]],factor=PwscfToTHz)\n",
    "phonon.generate_displacements(distance=0.03)\n",
    "supercells = phonon.supercells_with_displacements"
   ]
  },
  {
   "cell_type": "markdown",
   "metadata": {},
   "source": [
    "## Prepare input file for SCF calculations using Quantum ESPRESSO"
   ]
  },
  {
   "cell_type": "code",
   "execution_count": 6,
   "metadata": {},
   "outputs": [],
   "source": [
    "from ase import Atoms\n",
    "import sys,glob\n",
    "sys.path.insert(1, 'C://Users//liu_s//Desktop//CODE//qeAPI')\n",
    "from raw2qe import *\n",
    "from qe2cif import *\n",
    "svpath = 'C://Users//liu_s//Documents//BW_ipts//SA//Naf1//Phonon//' \n",
    "\n",
    "for i,scell in enumerate(supercells):\n",
    "    atoms = Atoms(symbols=scell.get_chemical_symbols(),scaled_positions=scell.get_scaled_positions(),\n",
    "                  cell=scell.get_cell(),pbc=True)\n",
    "    test = qeIpt(atoms=atoms,svpath=svpath,prefix=tag+'id{}'.format(i))\n",
    "    test.update_default({'CONTROL':{'calculation':'scf'}})\n",
    "    test.update_default({'SYSTEM':{'ibrav':14,'lda_plus_u':'.TRUE.','hubbard_u': [('Ni',3.0),('Fe',1.0)],\n",
    "                                   'nspin':2,'starting_magnetization':[('Ni',0.5),('Fe',0.5)]}})\n",
    "    test.update_default({'SYSTEM':{'ecutwfc':55,'ecutrho':55*9}})\n",
    "    test.update_default({'ELECTRONS':{'conv_thr':1e-10}})\n",
    "    test.update_default({'K_POINTS':{'x':4,'y':4,'z':4}})\n",
    "    test.prep_pwipt()"
   ]
  },
  {
   "cell_type": "markdown",
   "metadata": {},
   "source": [
    "## Get forces from each SCF calculation"
   ]
  },
  {
   "cell_type": "code",
   "execution_count": 39,
   "metadata": {},
   "outputs": [],
   "source": [
    "import re\n",
    "respath = 'C://Users//liu_s//Documents//BW_results//SA//Naf1//Phonon//*_scf.out' \n",
    "files = glob.glob(respath)\n",
    "files = sorted(files, key=lambda f: [int(n) for n in re.findall(r\"\\d+\", f)])\n",
    "set_of_forces = []\n",
    "for f in files:\n",
    "    cell = read_espresso_out(f,index=-1)\n",
    "    forces = cell.get_forces()\n",
    "    drift_force = forces.sum(axis=0)\n",
    "    print((\"[Phonopy] Drift force:\" + \"%11.5f\" * 3) % tuple(drift_force))\n",
    "    # Simple translational invariance\n",
    "    for force in forces:\n",
    "        force -= drift_force / forces.shape[0]\n",
    "    set_of_forces.append(forces)"
   ]
  },
  {
   "cell_type": "markdown",
   "metadata": {},
   "source": [
    "## Calculate DOS/Dispersion Relations"
   ]
  },
  {
   "cell_type": "code",
   "execution_count": 44,
   "metadata": {},
   "outputs": [],
   "source": [
    "phonon.produce_force_constants(forces=set_of_forces)\n",
    "print('')\n",
    "print(\"[Phonopy] Phonon frequencies at Gamma:\")\n",
    "for i, freq in enumerate(phonon.get_frequencies((0, 0, 0))):\n",
    "    print(\"[Phonopy] %3d: %10.5f THz\" %  (i + 1, freq)) # THz\n",
    "\n",
    "# DOS\n",
    "phonon.set_mesh([21, 21, 21])\n",
    "phonon.set_total_DOS(tetrahedron_method=True)\n",
    "omegados = []\n",
    "for omega, dos in np.array(phonon.get_total_DOS()).T:\n",
    "    omegados.append([omega, dos])"
   ]
  },
  {
   "cell_type": "markdown",
   "metadata": {},
   "source": [
    "## Calculation Band structure by following highly symmetric path"
   ]
  },
  {
   "cell_type": "code",
   "execution_count": 49,
   "metadata": {},
   "outputs": [],
   "source": [
    "from phonopy.phonon.band_structure import get_band_qpoints_and_path_connections\n",
    "import matplotlib.pyplot as plt\n",
    "%matplotlib inline\n",
    "\n",
    "path = [[[0, 0, 0], [0.5, 0, 0.5], [0.625, 0.25, 0.625]],\n",
    "        [[0.375, 0.375, 0.75], [0, 0, 0], [0.5, 0.5, 0.5], [0.5, 0.25, 0.75]]]\n",
    "labels = [\"$\\\\Gamma$\", \"X\", \"U\", \"K\", \"$\\\\Gamma$\", \"L\", \"W\"]\n",
    "qpoints, connections = get_band_qpoints_and_path_connections(path, npoints=51)\n",
    "phonon.run_band_structure(qpoints, path_connections=connections, labels=labels)\n",
    "phonon.plot_band_structure()"
   ]
  },
  {
   "cell_type": "markdown",
   "metadata": {},
   "source": [
    "## Calculate thermodynamic properties"
   ]
  },
  {
   "cell_type": "code",
   "execution_count": 55,
   "metadata": {},
   "outputs": [
    {
     "data": {
      "text/plain": [
       "'C://Users//liu_s//Documents//BW_ipts//SA//Naf1//Phonon\\\\Naf1gsid66_scf.in'"
      ]
     },
     "execution_count": 55,
     "metadata": {},
     "output_type": "execute_result"
    }
   ],
   "source": [
    "phonon.run_thermal_properties(t_step=10,t_max=1000,t_min=0)\n",
    "tp_dict = phonon.get_thermal_properties_dict()\n",
    "temperatures = tp_dict['temperatures']\n",
    "free_energy = tp_dict['free_energy']\n",
    "entropy = tp_dict['entropy']\n",
    "heat_capacity = tp_dict['heat_capacity']\n",
    "\n",
    "phonon.plot_thermal_properties().show()"
   ]
  },
  {
   "cell_type": "code",
   "execution_count": null,
   "metadata": {},
   "outputs": [],
   "source": []
  }
 ],
 "metadata": {
  "kernelspec": {
   "display_name": "Python 3",
   "language": "python",
   "name": "python3"
  },
  "language_info": {
   "codemirror_mode": {
    "name": "ipython",
    "version": 3
   },
   "file_extension": ".py",
   "mimetype": "text/x-python",
   "name": "python",
   "nbconvert_exporter": "python",
   "pygments_lexer": "ipython3",
   "version": "3.8.5"
  }
 },
 "nbformat": 4,
 "nbformat_minor": 4
}
